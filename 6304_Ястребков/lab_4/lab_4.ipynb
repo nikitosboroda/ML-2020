{
 "cells": [
  {
   "cell_type": "code",
   "execution_count": 135,
   "metadata": {},
   "outputs": [],
   "source": [
    "import numpy as np\n",
    "import pandas as pd\n",
    "import matplotlib.pyplot as plt\n",
    "import seaborn as sns\n",
    "import networkx as nx\n",
    "from mlxtend.preprocessing import TransactionEncoder\n",
    "from mlxtend.frequent_patterns import fpgrowth, fpmax, association_rules"
   ]
  },
  {
   "cell_type": "code",
   "execution_count": 2,
   "metadata": {},
   "outputs": [
    {
     "data": {
      "text/html": [
       "<div>\n",
       "<style scoped>\n",
       "    .dataframe tbody tr th:only-of-type {\n",
       "        vertical-align: middle;\n",
       "    }\n",
       "\n",
       "    .dataframe tbody tr th {\n",
       "        vertical-align: top;\n",
       "    }\n",
       "\n",
       "    .dataframe thead th {\n",
       "        text-align: right;\n",
       "    }\n",
       "</style>\n",
       "<table border=\"1\" class=\"dataframe\">\n",
       "  <thead>\n",
       "    <tr style=\"text-align: right;\">\n",
       "      <th></th>\n",
       "      <th>Item(s)</th>\n",
       "      <th>Item 1</th>\n",
       "      <th>Item 2</th>\n",
       "      <th>Item 3</th>\n",
       "      <th>Item 4</th>\n",
       "      <th>Item 5</th>\n",
       "      <th>Item 6</th>\n",
       "      <th>Item 7</th>\n",
       "      <th>Item 8</th>\n",
       "      <th>Item 9</th>\n",
       "      <th>...</th>\n",
       "      <th>Item 23</th>\n",
       "      <th>Item 24</th>\n",
       "      <th>Item 25</th>\n",
       "      <th>Item 26</th>\n",
       "      <th>Item 27</th>\n",
       "      <th>Item 28</th>\n",
       "      <th>Item 29</th>\n",
       "      <th>Item 30</th>\n",
       "      <th>Item 31</th>\n",
       "      <th>Item 32</th>\n",
       "    </tr>\n",
       "  </thead>\n",
       "  <tbody>\n",
       "    <tr>\n",
       "      <th>0</th>\n",
       "      <td>4</td>\n",
       "      <td>citrus fruit</td>\n",
       "      <td>semi-finished bread</td>\n",
       "      <td>margarine</td>\n",
       "      <td>ready soups</td>\n",
       "      <td>NaN</td>\n",
       "      <td>NaN</td>\n",
       "      <td>NaN</td>\n",
       "      <td>NaN</td>\n",
       "      <td>NaN</td>\n",
       "      <td>...</td>\n",
       "      <td>NaN</td>\n",
       "      <td>NaN</td>\n",
       "      <td>NaN</td>\n",
       "      <td>NaN</td>\n",
       "      <td>NaN</td>\n",
       "      <td>NaN</td>\n",
       "      <td>NaN</td>\n",
       "      <td>NaN</td>\n",
       "      <td>NaN</td>\n",
       "      <td>NaN</td>\n",
       "    </tr>\n",
       "    <tr>\n",
       "      <th>1</th>\n",
       "      <td>3</td>\n",
       "      <td>tropical fruit</td>\n",
       "      <td>yogurt</td>\n",
       "      <td>coffee</td>\n",
       "      <td>NaN</td>\n",
       "      <td>NaN</td>\n",
       "      <td>NaN</td>\n",
       "      <td>NaN</td>\n",
       "      <td>NaN</td>\n",
       "      <td>NaN</td>\n",
       "      <td>...</td>\n",
       "      <td>NaN</td>\n",
       "      <td>NaN</td>\n",
       "      <td>NaN</td>\n",
       "      <td>NaN</td>\n",
       "      <td>NaN</td>\n",
       "      <td>NaN</td>\n",
       "      <td>NaN</td>\n",
       "      <td>NaN</td>\n",
       "      <td>NaN</td>\n",
       "      <td>NaN</td>\n",
       "    </tr>\n",
       "    <tr>\n",
       "      <th>2</th>\n",
       "      <td>1</td>\n",
       "      <td>whole milk</td>\n",
       "      <td>NaN</td>\n",
       "      <td>NaN</td>\n",
       "      <td>NaN</td>\n",
       "      <td>NaN</td>\n",
       "      <td>NaN</td>\n",
       "      <td>NaN</td>\n",
       "      <td>NaN</td>\n",
       "      <td>NaN</td>\n",
       "      <td>...</td>\n",
       "      <td>NaN</td>\n",
       "      <td>NaN</td>\n",
       "      <td>NaN</td>\n",
       "      <td>NaN</td>\n",
       "      <td>NaN</td>\n",
       "      <td>NaN</td>\n",
       "      <td>NaN</td>\n",
       "      <td>NaN</td>\n",
       "      <td>NaN</td>\n",
       "      <td>NaN</td>\n",
       "    </tr>\n",
       "    <tr>\n",
       "      <th>3</th>\n",
       "      <td>4</td>\n",
       "      <td>pip fruit</td>\n",
       "      <td>yogurt</td>\n",
       "      <td>cream cheese</td>\n",
       "      <td>meat spreads</td>\n",
       "      <td>NaN</td>\n",
       "      <td>NaN</td>\n",
       "      <td>NaN</td>\n",
       "      <td>NaN</td>\n",
       "      <td>NaN</td>\n",
       "      <td>...</td>\n",
       "      <td>NaN</td>\n",
       "      <td>NaN</td>\n",
       "      <td>NaN</td>\n",
       "      <td>NaN</td>\n",
       "      <td>NaN</td>\n",
       "      <td>NaN</td>\n",
       "      <td>NaN</td>\n",
       "      <td>NaN</td>\n",
       "      <td>NaN</td>\n",
       "      <td>NaN</td>\n",
       "    </tr>\n",
       "    <tr>\n",
       "      <th>4</th>\n",
       "      <td>4</td>\n",
       "      <td>other vegetables</td>\n",
       "      <td>whole milk</td>\n",
       "      <td>condensed milk</td>\n",
       "      <td>long life bakery product</td>\n",
       "      <td>NaN</td>\n",
       "      <td>NaN</td>\n",
       "      <td>NaN</td>\n",
       "      <td>NaN</td>\n",
       "      <td>NaN</td>\n",
       "      <td>...</td>\n",
       "      <td>NaN</td>\n",
       "      <td>NaN</td>\n",
       "      <td>NaN</td>\n",
       "      <td>NaN</td>\n",
       "      <td>NaN</td>\n",
       "      <td>NaN</td>\n",
       "      <td>NaN</td>\n",
       "      <td>NaN</td>\n",
       "      <td>NaN</td>\n",
       "      <td>NaN</td>\n",
       "    </tr>\n",
       "  </tbody>\n",
       "</table>\n",
       "<p>5 rows × 33 columns</p>\n",
       "</div>"
      ],
      "text/plain": [
       "   Item(s)            Item 1               Item 2          Item 3  \\\n",
       "0        4      citrus fruit  semi-finished bread       margarine   \n",
       "1        3    tropical fruit               yogurt          coffee   \n",
       "2        1        whole milk                  NaN             NaN   \n",
       "3        4         pip fruit               yogurt    cream cheese   \n",
       "4        4  other vegetables           whole milk  condensed milk   \n",
       "\n",
       "                     Item 4 Item 5 Item 6 Item 7 Item 8 Item 9  ... Item 23  \\\n",
       "0               ready soups    NaN    NaN    NaN    NaN    NaN  ...     NaN   \n",
       "1                       NaN    NaN    NaN    NaN    NaN    NaN  ...     NaN   \n",
       "2                       NaN    NaN    NaN    NaN    NaN    NaN  ...     NaN   \n",
       "3              meat spreads    NaN    NaN    NaN    NaN    NaN  ...     NaN   \n",
       "4  long life bakery product    NaN    NaN    NaN    NaN    NaN  ...     NaN   \n",
       "\n",
       "  Item 24 Item 25 Item 26 Item 27 Item 28 Item 29 Item 30 Item 31 Item 32  \n",
       "0     NaN     NaN     NaN     NaN     NaN     NaN     NaN     NaN     NaN  \n",
       "1     NaN     NaN     NaN     NaN     NaN     NaN     NaN     NaN     NaN  \n",
       "2     NaN     NaN     NaN     NaN     NaN     NaN     NaN     NaN     NaN  \n",
       "3     NaN     NaN     NaN     NaN     NaN     NaN     NaN     NaN     NaN  \n",
       "4     NaN     NaN     NaN     NaN     NaN     NaN     NaN     NaN     NaN  \n",
       "\n",
       "[5 rows x 33 columns]"
      ]
     },
     "execution_count": 2,
     "metadata": {},
     "output_type": "execute_result"
    }
   ],
   "source": [
    "all_data = pd.read_csv('data/groceries - groceries.csv')\n",
    "all_data.head()"
   ]
  },
  {
   "cell_type": "code",
   "execution_count": 47,
   "metadata": {},
   "outputs": [],
   "source": [
    "np_data = all_data.to_numpy()\n",
    "np_data = [[elem for elem in row[1:] if isinstance(elem, str)] for row in np_data]"
   ]
  },
  {
   "cell_type": "code",
   "execution_count": 48,
   "metadata": {},
   "outputs": [],
   "source": [
    "unique_items = set()\n",
    "\n",
    "for row in np_data:\n",
    "    for elem in row:\n",
    "        unique_items.add(elem)"
   ]
  },
  {
   "cell_type": "code",
   "execution_count": 49,
   "metadata": {},
   "outputs": [
    {
     "name": "stdout",
     "output_type": "stream",
     "text": [
      "{'butter milk', 'white wine', 'liquor (appetizer)', 'dog food', 'hygiene articles', 'soups', 'cereals', 'meat', 'frozen chicken', 'berries', 'nuts/prunes', 'specialty vegetables', 'liquor', 'bathroom cleaner', 'brown bread', 'curd', 'toilet cleaner', 'liqueur', 'packaged fruit/vegetables', 'detergent', 'soft cheese', 'popcorn', 'newspapers', 'Instant food products', 'ready soups', 'photo/film', 'frozen fish', 'kitchen utensil', 'curd cheese', 'light bulbs', 'specialty bar', 'snack products', 'honey', 'cooking chocolate', 'house keeping products', 'cream cheese', 'softener', 'frozen meals', 'pickled vegetables', 'frozen potato products', 'seasonal products', 'whole milk', 'sliced cheese', 'pasta', 'flower soil/fertilizer', 'pet care', 'mayonnaise', 'red/blush wine', 'domestic eggs', 'jam', 'specialty chocolate', 'flower (seeds)', 'instant coffee', 'artif. sweetener', 'tea', 'bottled water', 'tidbits', 'semi-finished bread', 'dishes', 'onions', 'hamburger meat', 'sausage', 'baby food', 'butter', 'other vegetables', 'finished products', 'spices', 'ketchup', 'pastry', 'spread cheese', 'canned beer', 'sauces', 'brandy', 'sparkling wine', 'herbs', 'dental care', 'rum', 'chocolate', 'dessert', 'bags', 'cake bar', 'sugar', 'nut snack', 'meat spreads', 'chewing gum', 'frankfurter', 'shopping bags', 'fruit/vegetable juice', 'beverages', 'candy', 'turkey', 'preservation products', 'candles', 'frozen dessert', 'specialty cheese', 'mustard', 'chicken', 'beef', 'cleaner', 'coffee', 'misc. beverages', 'processed cheese', 'cat food', 'soap', 'salty snack', 'rolls/buns', 'chocolate marshmallow', 'pudding powder', 'long life bakery product', 'ice cream', 'vinegar', 'flour', 'hair spray', 'potato products', 'salt', 'kitchen towels', 'root vegetables', 'zwieback', 'baking powder', 'make up remover', 'cling film/bags', 'tropical fruit', 'whisky', 'abrasive cleaner', 'UHT-milk', 'organic products', 'sweet spreads', 'grapes', 'skin care', 'pip fruit', 'citrus fruit', 'canned vegetables', 'potted plants', 'oil', 'cookware', 'roll products', 'female sanitary products', 'liver loaf', 'decalcifier', 'ham', 'margarine', 'cocoa drinks', 'frozen fruits', 'baby cosmetics', 'canned fish', 'organic sausage', 'salad dressing', 'syrup', 'frozen vegetables', 'canned fruit', 'rice', 'bottled beer', 'pork', 'male cosmetics', 'specialty fat', 'dish cleaner', 'whipped/sour cream', 'napkins', 'condensed milk', 'cream', 'prosecco', 'sound storage medium', 'hard cheese', 'soda', 'waffles', 'fish', 'yogurt', 'white bread', 'rubbing alcohol'}\n",
      "169\n"
     ]
    }
   ],
   "source": [
    "print(unique_items)\n",
    "print(len(unique_items))"
   ]
  },
  {
   "cell_type": "code",
   "execution_count": 78,
   "metadata": {},
   "outputs": [],
   "source": [
    "te = TransactionEncoder()\n",
    "te_ary = te.fit(np_data).transform(np_data)\n",
    "data = pd.DataFrame(te_ary, columns=te.columns_)"
   ]
  },
  {
   "cell_type": "code",
   "execution_count": 40,
   "metadata": {},
   "outputs": [
    {
     "name": "stdout",
     "output_type": "stream",
     "text": [
      "     support                    itemsets  length\n",
      "5   0.255516                (whole milk)       1\n",
      "8   0.193493          (other vegetables)       1\n",
      "11  0.183935                (rolls/buns)       1\n",
      "19  0.174377                      (soda)       1\n",
      "2   0.139502                    (yogurt)       1\n",
      "..       ...                         ...     ...\n",
      "43  0.031012                    (onions)       1\n",
      "61  0.030605       (rolls/buns, sausage)       2\n",
      "44  0.030503  (citrus fruit, whole milk)       2\n",
      "42  0.030402       (specialty chocolate)       1\n",
      "50  0.030097     (pip fruit, whole milk)       2\n",
      "\n",
      "[63 rows x 3 columns]\n"
     ]
    }
   ],
   "source": [
    "result = fpgrowth(data, min_support=0.03, use_colnames = True)\n",
    "result['length'] = np.fromiter(map(len, result['itemsets']), dtype=int)\n",
    "print(result.sort_values(by=['support'], ascending=False))"
   ]
  },
  {
   "cell_type": "code",
   "execution_count": 32,
   "metadata": {},
   "outputs": [
    {
     "data": {
      "text/plain": [
       "(0.030096593797661414, 0.07483477376715811)"
      ]
     },
     "execution_count": 32,
     "metadata": {},
     "output_type": "execute_result"
    }
   ],
   "source": [
    "one_item = result.loc[result['length'] == 2]\n",
    "np.min(one_item.support), np.max(one_item.support)"
   ]
  },
  {
   "cell_type": "code",
   "execution_count": 25,
   "metadata": {},
   "outputs": [
    {
     "name": "stdout",
     "output_type": "stream",
     "text": [
      "     support                             itemsets  length\n",
      "28  0.030097              (pip fruit, whole milk)       2\n",
      "0   0.030402                (specialty chocolate)       1\n",
      "32  0.030503           (citrus fruit, whole milk)       2\n",
      "34  0.030605                (rolls/buns, sausage)       2\n",
      "1   0.031012                             (onions)       1\n",
      "26  0.032232     (whipped/sour cream, whole milk)       2\n",
      "44  0.032740             (soda, other vegetables)       2\n",
      "2   0.032944                   (hygiene articles)       1\n",
      "3   0.033249                            (berries)       1\n",
      "4   0.033249                     (hamburger meat)       1\n",
      "33  0.033249                 (pastry, whole milk)       2\n",
      "5   0.033452                           (UHT-milk)       1\n",
      "6   0.033859                              (sugar)       1\n",
      "40  0.034367          (bottled water, whole milk)       2\n",
      "41  0.034367                 (rolls/buns, yogurt)       2\n",
      "36  0.035892   (tropical fruit, other vegetables)       2\n",
      "7   0.037112                            (dessert)       1\n",
      "8   0.037417           (long life bakery product)       1\n",
      "9   0.037824                        (salty snack)       1\n",
      "45  0.038332                   (rolls/buns, soda)       2\n",
      "10  0.038434                            (waffles)       1\n",
      "11  0.039654                       (cream cheese)       1\n",
      "46  0.040061                   (soda, whole milk)       2\n",
      "12  0.042095                        (white bread)       1\n",
      "37  0.042298         (tropical fruit, whole milk)       2\n",
      "47  0.042603       (rolls/buns, other vegetables)       2\n",
      "13  0.042908                            (chicken)       1\n",
      "42  0.043416           (yogurt, other vegetables)       2\n",
      "38  0.047382  (root vegetables, other vegetables)       2\n",
      "14  0.048094                  (frozen vegetables)       1\n",
      "39  0.048907        (root vegetables, whole milk)       2\n",
      "15  0.049619                          (chocolate)       1\n",
      "16  0.052364                            (napkins)       1\n",
      "17  0.052466                               (beef)       1\n",
      "18  0.053279                               (curd)       1\n",
      "19  0.055414                             (butter)       1\n",
      "43  0.056024                 (yogurt, whole milk)       2\n",
      "48  0.056634             (rolls/buns, whole milk)       2\n",
      "20  0.057651                               (pork)       1\n",
      "21  0.058058                             (coffee)       1\n",
      "22  0.058566                          (margarine)       1\n",
      "23  0.058973                        (frankfurter)       1\n",
      "24  0.063447                      (domestic eggs)       1\n",
      "25  0.064870                        (brown bread)       1\n",
      "27  0.072293              (fruit/vegetable juice)       1\n",
      "49  0.074835       (other vegetables, whole milk)       2\n",
      "29  0.077682                        (canned beer)       1\n",
      "30  0.079817                         (newspapers)       1\n",
      "31  0.080529                       (bottled beer)       1\n",
      "35  0.098526                      (shopping bags)       1\n"
     ]
    }
   ],
   "source": [
    "result_fpmax = fpmax(data, min_support=0.03, use_colnames = True)\n",
    "result_fpmax['length'] = np.fromiter(map(len, result_fpmax['itemsets']), dtype=int)\n",
    "print(result_fpmax.sort_values(by=['support']))"
   ]
  },
  {
   "cell_type": "code",
   "execution_count": 34,
   "metadata": {},
   "outputs": [
    {
     "data": {
      "text/plain": [
       "(0.030096593797661414, 0.07483477376715811)"
      ]
     },
     "execution_count": 34,
     "metadata": {},
     "output_type": "execute_result"
    }
   ],
   "source": [
    "one_item = result_fpmax.loc[result_fpmax['length'] == 2]\n",
    "np.min(one_item.support), np.max(one_item.support)"
   ]
  },
  {
   "cell_type": "code",
   "execution_count": 38,
   "metadata": {},
   "outputs": [
    {
     "data": {
      "text/plain": [
       "<AxesSubplot:xlabel='item'>"
      ]
     },
     "execution_count": 38,
     "metadata": {},
     "output_type": "execute_result"
    },
    {
     "data": {
      "image/png": "[encoded data removed]",
      "text/plain": [
       "<Figure size 432x288 with 1 Axes>"
      ]
     },
     "metadata": {
      "needs_background": "light"
     },
     "output_type": "display_data"
    }
   ],
   "source": [
    "items_number = {}\n",
    "for row in np_data:\n",
    "    for elem in row:\n",
    "        try:\n",
    "            items_number[elem] += 1\n",
    "        except KeyError:\n",
    "            items_number[elem] = 1\n",
    "            \n",
    "items_df = pd.DataFrame(items_number.items(), columns=['item', 'number'])\n",
    "items_df = items_df.sort_values(by='number', ascending=False).reset_index(drop=True)\n",
    "\n",
    "items_df.head(10).plot(kind='bar', x='item', y='number', legend=False)"
   ]
  },
  {
   "cell_type": "code",
   "execution_count": 41,
   "metadata": {},
   "outputs": [],
   "source": [
    "items = ['whole milk', 'yogurt', 'soda', 'tropical fruit', 'shopping bags', 'sausage',\n",
    "    'whipped/sour cream', 'rolls/buns', 'other vegetables', 'root vegetables',\n",
    "    'pork', 'bottled water', 'pastry', 'citrus fruit', 'canned beer', 'bottled beer']\n",
    "np_data_less = all_data.to_numpy()\n",
    "np_data_less = [[elem for elem in row[1:] if isinstance(elem,str) and elem in items] for row in np_data_less]\n",
    "\n",
    "te = TransactionEncoder()\n",
    "te_ary = te.fit(np_data_less).transform(np_data_less)\n",
    "data = pd.DataFrame(te_ary, columns=te.columns_)\n",
    "\n",
    "result = fpgrowth(data, min_support=0.03, use_colnames = True)\n",
    "result['length'] = np.fromiter(map(len, result['itemsets']), dtype=int)\n",
    "\n",
    "result_fpmax = fpmax(data, min_support=0.03, use_colnames = True)\n",
    "result_fpmax['length'] = np.fromiter(map(len, result_fpmax['itemsets']), dtype=int)"
   ]
  },
  {
   "cell_type": "code",
   "execution_count": 46,
   "metadata": {},
   "outputs": [
    {
     "data": {
      "text/plain": [
       "(0.030503304524656837, 0.07483477376715811)"
      ]
     },
     "execution_count": 46,
     "metadata": {},
     "output_type": "execute_result"
    }
   ],
   "source": [
    "one_item = result.loc[result['length'] == 2]\n",
    "np.min(one_item.support), np.max(one_item.support)"
   ]
  },
  {
   "cell_type": "code",
   "execution_count": 63,
   "metadata": {},
   "outputs": [
    {
     "data": {
      "text/plain": [
       "Text(0, 0.5, 'Number of itemsets')"
      ]
     },
     "execution_count": 63,
     "metadata": {},
     "output_type": "execute_result"
    },
    {
     "data": {
      "image/png": "[encoded data removed]",
      "text/plain": [
       "<Figure size 432x288 with 1 Axes>"
      ]
     },
     "metadata": {
      "needs_background": "light"
     },
     "output_type": "display_data"
    }
   ],
   "source": [
    "support = np.linspace(0.01, 0.3, 30)\n",
    "fpgrowth_1_item = []\n",
    "fpgrowth_2_item = []\n",
    "fpgrowth_3_item = []\n",
    "for s in support:    \n",
    "    result = fpgrowth(data, min_support=s, use_colnames = True)\n",
    "    result['length'] = np.fromiter(map(len, result['itemsets']), dtype=int)\n",
    "    fpgrowth_1_item.append(result.loc[result['length'] == 1].shape[0])\n",
    "    fpgrowth_2_item.append(result.loc[result['length'] == 2].shape[0])\n",
    "    fpgrowth_3_item.append(result.loc[result['length'] == 3].shape[0])\n",
    "    \n",
    "plt.plot(support, fpgrowth_1_item)\n",
    "plt.plot(support, fpgrowth_2_item)\n",
    "plt.plot(support, fpgrowth_3_item)\n",
    "plt.legend(['1 item', '2 items', '3 items'])\n",
    "plt.xlabel(\"Support level\")\n",
    "plt.ylabel('Number of itemsets')"
   ]
  },
  {
   "cell_type": "code",
   "execution_count": 64,
   "metadata": {},
   "outputs": [
    {
     "data": {
      "text/plain": [
       "Text(0, 0.5, 'Number of itemsets')"
      ]
     },
     "execution_count": 64,
     "metadata": {},
     "output_type": "execute_result"
    },
    {
     "data": {
      "image/png": "[encoded data removed]",
      "text/plain": [
       "<Figure size 432x288 with 1 Axes>"
      ]
     },
     "metadata": {
      "needs_background": "light"
     },
     "output_type": "display_data"
    }
   ],
   "source": [
    "support = np.linspace(0.01, 0.3, 30)\n",
    "fpgrowth_1_item = []\n",
    "fpgrowth_2_item = []\n",
    "fpgrowth_3_item = []\n",
    "for s in support:    \n",
    "    result = fpmax(data, min_support=s, use_colnames = True)\n",
    "    result['length'] = np.fromiter(map(len, result['itemsets']), dtype=int)\n",
    "    fpgrowth_1_item.append(result.loc[result['length'] == 1].shape[0])\n",
    "    fpgrowth_2_item.append(result.loc[result['length'] == 2].shape[0])\n",
    "    fpgrowth_3_item.append(result.loc[result['length'] == 3].shape[0])\n",
    "    \n",
    "plt.plot(support, fpgrowth_1_item)\n",
    "plt.plot(support, fpgrowth_2_item)\n",
    "plt.plot(support, fpgrowth_3_item)\n",
    "plt.legend(['1 item', '2 items', '3 items'])\n",
    "plt.xlabel(\"Support level\")\n",
    "plt.ylabel('Number of itemsets')"
   ]
  },
  {
   "cell_type": "code",
   "execution_count": 75,
   "metadata": {},
   "outputs": [],
   "source": [
    "np_data = all_data.to_numpy()\n",
    "np_data = [[elem for elem in row[1:] if isinstance(elem,str) and elem in items] for row in np_data]\n",
    "np_data = [row for row in np_data if len(row) > 1]"
   ]
  },
  {
   "cell_type": "code",
   "execution_count": 79,
   "metadata": {},
   "outputs": [],
   "source": [
    "result = fpgrowth(data, min_support=0.05, use_colnames = True)"
   ]
  },
  {
   "cell_type": "code",
   "execution_count": 89,
   "metadata": {},
   "outputs": [
    {
     "data": {
      "text/html": [
       "<div>\n",
       "<style scoped>\n",
       "    .dataframe tbody tr th:only-of-type {\n",
       "        vertical-align: middle;\n",
       "    }\n",
       "\n",
       "    .dataframe tbody tr th {\n",
       "        vertical-align: top;\n",
       "    }\n",
       "\n",
       "    .dataframe thead th {\n",
       "        text-align: right;\n",
       "    }\n",
       "</style>\n",
       "<table border=\"1\" class=\"dataframe\">\n",
       "  <thead>\n",
       "    <tr style=\"text-align: right;\">\n",
       "      <th></th>\n",
       "      <th>antecedent support</th>\n",
       "      <th>consequent support</th>\n",
       "      <th>support</th>\n",
       "      <th>confidence</th>\n",
       "      <th>lift</th>\n",
       "      <th>leverage</th>\n",
       "      <th>conviction</th>\n",
       "    </tr>\n",
       "  </thead>\n",
       "  <tbody>\n",
       "    <tr>\n",
       "      <th>count</th>\n",
       "      <td>17.000000</td>\n",
       "      <td>17.000000</td>\n",
       "      <td>17.000000</td>\n",
       "      <td>17.000000</td>\n",
       "      <td>17.000000</td>\n",
       "      <td>17.000000</td>\n",
       "      <td>17.000000</td>\n",
       "    </tr>\n",
       "    <tr>\n",
       "      <th>mean</th>\n",
       "      <td>0.206617</td>\n",
       "      <td>0.383845</td>\n",
       "      <td>0.084907</td>\n",
       "      <td>0.417044</td>\n",
       "      <td>1.097328</td>\n",
       "      <td>0.005698</td>\n",
       "      <td>1.063148</td>\n",
       "    </tr>\n",
       "    <tr>\n",
       "      <th>std</th>\n",
       "      <td>0.079763</td>\n",
       "      <td>0.047701</td>\n",
       "      <td>0.029927</td>\n",
       "      <td>0.053484</td>\n",
       "      <td>0.160113</td>\n",
       "      <td>0.010332</td>\n",
       "      <td>0.105078</td>\n",
       "    </tr>\n",
       "    <tr>\n",
       "      <th>min</th>\n",
       "      <td>0.124245</td>\n",
       "      <td>0.296214</td>\n",
       "      <td>0.057189</td>\n",
       "      <td>0.351313</td>\n",
       "      <td>0.837619</td>\n",
       "      <td>-0.012801</td>\n",
       "      <td>0.894062</td>\n",
       "    </tr>\n",
       "    <tr>\n",
       "      <th>25%</th>\n",
       "      <td>0.150624</td>\n",
       "      <td>0.335079</td>\n",
       "      <td>0.060612</td>\n",
       "      <td>0.366992</td>\n",
       "      <td>1.036260</td>\n",
       "      <td>0.002304</td>\n",
       "      <td>1.025026</td>\n",
       "    </tr>\n",
       "    <tr>\n",
       "      <th>50%</th>\n",
       "      <td>0.185864</td>\n",
       "      <td>0.421869</td>\n",
       "      <td>0.071083</td>\n",
       "      <td>0.412655</td>\n",
       "      <td>1.068352</td>\n",
       "      <td>0.006849</td>\n",
       "      <td>1.052495</td>\n",
       "    </tr>\n",
       "    <tr>\n",
       "      <th>75%</th>\n",
       "      <td>0.241240</td>\n",
       "      <td>0.421869</td>\n",
       "      <td>0.096859</td>\n",
       "      <td>0.459933</td>\n",
       "      <td>1.169400</td>\n",
       "      <td>0.010985</td>\n",
       "      <td>1.102730</td>\n",
       "    </tr>\n",
       "    <tr>\n",
       "      <th>max</th>\n",
       "      <td>0.421869</td>\n",
       "      <td>0.421869</td>\n",
       "      <td>0.148208</td>\n",
       "      <td>0.513776</td>\n",
       "      <td>1.426378</td>\n",
       "      <td>0.028050</td>\n",
       "      <td>1.273671</td>\n",
       "    </tr>\n",
       "  </tbody>\n",
       "</table>\n",
       "</div>"
      ],
      "text/plain": [
       "       antecedent support  consequent support    support  confidence  \\\n",
       "count           17.000000           17.000000  17.000000   17.000000   \n",
       "mean             0.206617            0.383845   0.084907    0.417044   \n",
       "std              0.079763            0.047701   0.029927    0.053484   \n",
       "min              0.124245            0.296214   0.057189    0.351313   \n",
       "25%              0.150624            0.335079   0.060612    0.366992   \n",
       "50%              0.185864            0.421869   0.071083    0.412655   \n",
       "75%              0.241240            0.421869   0.096859    0.459933   \n",
       "max              0.421869            0.421869   0.148208    0.513776   \n",
       "\n",
       "            lift   leverage  conviction  \n",
       "count  17.000000  17.000000   17.000000  \n",
       "mean    1.097328   0.005698    1.063148  \n",
       "std     0.160113   0.010332    0.105078  \n",
       "min     0.837619  -0.012801    0.894062  \n",
       "25%     1.036260   0.002304    1.025026  \n",
       "50%     1.068352   0.006849    1.052495  \n",
       "75%     1.169400   0.010985    1.102730  \n",
       "max     1.426378   0.028050    1.273671  "
      ]
     },
     "execution_count": 89,
     "metadata": {},
     "output_type": "execute_result"
    }
   ],
   "source": [
    "rules = association_rules(result, min_threshold = 0.35, metric='confidence')\n",
    "rules\n",
    "rules.iloc[:, 2:].describe()"
   ]
  },
  {
   "cell_type": "code",
   "execution_count": 126,
   "metadata": {},
   "outputs": [
    {
     "data": {
      "text/html": [
       "<div>\n",
       "<style scoped>\n",
       "    .dataframe tbody tr th:only-of-type {\n",
       "        vertical-align: middle;\n",
       "    }\n",
       "\n",
       "    .dataframe tbody tr th {\n",
       "        vertical-align: top;\n",
       "    }\n",
       "\n",
       "    .dataframe thead th {\n",
       "        text-align: right;\n",
       "    }\n",
       "</style>\n",
       "<table border=\"1\" class=\"dataframe\">\n",
       "  <thead>\n",
       "    <tr style=\"text-align: right;\">\n",
       "      <th></th>\n",
       "      <th>antecedent support</th>\n",
       "      <th>consequent support</th>\n",
       "      <th>support</th>\n",
       "      <th>confidence</th>\n",
       "      <th>lift</th>\n",
       "      <th>leverage</th>\n",
       "      <th>conviction</th>\n",
       "    </tr>\n",
       "  </thead>\n",
       "  <tbody>\n",
       "    <tr>\n",
       "      <th>count</th>\n",
       "      <td>16.000000</td>\n",
       "      <td>16.000000</td>\n",
       "      <td>16.000000</td>\n",
       "      <td>16.000000</td>\n",
       "      <td>16.000000</td>\n",
       "      <td>16.000000</td>\n",
       "      <td>16.000000</td>\n",
       "    </tr>\n",
       "    <tr>\n",
       "      <th>mean</th>\n",
       "      <td>0.223054</td>\n",
       "      <td>0.293924</td>\n",
       "      <td>0.073575</td>\n",
       "      <td>0.358605</td>\n",
       "      <td>1.238133</td>\n",
       "      <td>0.013393</td>\n",
       "      <td>1.107953</td>\n",
       "    </tr>\n",
       "    <tr>\n",
       "      <th>std</th>\n",
       "      <td>0.084109</td>\n",
       "      <td>0.100411</td>\n",
       "      <td>0.018968</td>\n",
       "      <td>0.111824</td>\n",
       "      <td>0.114270</td>\n",
       "      <td>0.006415</td>\n",
       "      <td>0.068573</td>\n",
       "    </tr>\n",
       "    <tr>\n",
       "      <th>min</th>\n",
       "      <td>0.124245</td>\n",
       "      <td>0.124245</td>\n",
       "      <td>0.057189</td>\n",
       "      <td>0.170673</td>\n",
       "      <td>1.068352</td>\n",
       "      <td>0.005359</td>\n",
       "      <td>1.043171</td>\n",
       "    </tr>\n",
       "    <tr>\n",
       "      <th>25%</th>\n",
       "      <td>0.180981</td>\n",
       "      <td>0.196335</td>\n",
       "      <td>0.057843</td>\n",
       "      <td>0.270136</td>\n",
       "      <td>1.163885</td>\n",
       "      <td>0.009088</td>\n",
       "      <td>1.059860</td>\n",
       "    </tr>\n",
       "    <tr>\n",
       "      <th>50%</th>\n",
       "      <td>0.191099</td>\n",
       "      <td>0.315646</td>\n",
       "      <td>0.062223</td>\n",
       "      <td>0.372114</td>\n",
       "      <td>1.219600</td>\n",
       "      <td>0.012288</td>\n",
       "      <td>1.083949</td>\n",
       "    </tr>\n",
       "    <tr>\n",
       "      <th>75%</th>\n",
       "      <td>0.254984</td>\n",
       "      <td>0.356776</td>\n",
       "      <td>0.093838</td>\n",
       "      <td>0.460023</td>\n",
       "      <td>1.313488</td>\n",
       "      <td>0.014413</td>\n",
       "      <td>1.122469</td>\n",
       "    </tr>\n",
       "    <tr>\n",
       "      <th>max</th>\n",
       "      <td>0.421869</td>\n",
       "      <td>0.421869</td>\n",
       "      <td>0.110954</td>\n",
       "      <td>0.513776</td>\n",
       "      <td>1.426378</td>\n",
       "      <td>0.028050</td>\n",
       "      <td>1.273671</td>\n",
       "    </tr>\n",
       "  </tbody>\n",
       "</table>\n",
       "</div>"
      ],
      "text/plain": [
       "       antecedent support  consequent support    support  confidence  \\\n",
       "count           16.000000           16.000000  16.000000   16.000000   \n",
       "mean             0.223054            0.293924   0.073575    0.358605   \n",
       "std              0.084109            0.100411   0.018968    0.111824   \n",
       "min              0.124245            0.124245   0.057189    0.170673   \n",
       "25%              0.180981            0.196335   0.057843    0.270136   \n",
       "50%              0.191099            0.315646   0.062223    0.372114   \n",
       "75%              0.254984            0.356776   0.093838    0.460023   \n",
       "max              0.421869            0.421869   0.110954    0.513776   \n",
       "\n",
       "            lift   leverage  conviction  \n",
       "count  16.000000  16.000000   16.000000  \n",
       "mean    1.238133   0.013393    1.107953  \n",
       "std     0.114270   0.006415    0.068573  \n",
       "min     1.068352   0.005359    1.043171  \n",
       "25%     1.163885   0.009088    1.059860  \n",
       "50%     1.219600   0.012288    1.083949  \n",
       "75%     1.313488   0.014413    1.122469  \n",
       "max     1.426378   0.028050    1.273671  "
      ]
     },
     "execution_count": 126,
     "metadata": {},
     "output_type": "execute_result"
    }
   ],
   "source": [
    "rules = association_rules(result, min_threshold = 1.04, metric='conviction')\n",
    "rules.iloc[:, 2:].describe()"
   ]
  },
  {
   "cell_type": "code",
   "execution_count": 134,
   "metadata": {},
   "outputs": [
    {
     "data": {
      "image/png": "[encoded data removed]",
      "text/plain": [
       "<Figure size 1080x576 with 1 Axes>"
      ]
     },
     "metadata": {},
     "output_type": "display_data"
    }
   ],
   "source": [
    "rules = association_rules(result, min_threshold = 0.4, metric='confidence')\n",
    "digraph = nx.DiGraph()\n",
    "for i in range(rules.shape[0]):\n",
    "    digraph.add_edge(\n",
    "        rules.iloc[i].antecedents,\n",
    "        rules.iloc[i].consequents,\n",
    "        weight=rules.iloc[i].support,\n",
    "        label=round(rules.iloc[i].confidence,3)\n",
    "    )\n",
    "\n",
    "plt.figure(figsize=(15, 8))\n",
    "pos = nx.spring_layout(digraph)\n",
    "nx.draw(\n",
    "    digraph,\n",
    "    pos,\n",
    "    labels={node: ','.join(node) for node in digraph.nodes()},\n",
    "    width=[digraph[u][v]['weight']*50 for u,v in digraph.edges()],\n",
    "    node_size=3000,\n",
    "    node_color='#7CC3FF',\n",
    "    font_size=15\n",
    ")\n",
    "nx.draw_networkx_edge_labels(\n",
    "    digraph,\n",
    "    pos,\n",
    "    edge_labels=nx.get_edge_attributes(digraph, 'label'),\n",
    "    font_size=15\n",
    ")\n",
    "plt.show()"
   ]
  },
  {
   "cell_type": "code",
   "execution_count": 137,
   "metadata": {},
   "outputs": [
    {
     "data": {
      "text/plain": [
       "<AxesSubplot:>"
      ]
     },
     "execution_count": 137,
     "metadata": {},
     "output_type": "execute_result"
    },
    {
     "data": {
      "image/png": "[encoded data removed]",
      "text/plain": [
       "<Figure size 432x288 with 2 Axes>"
      ]
     },
     "metadata": {
      "needs_background": "light"
     },
     "output_type": "display_data"
    }
   ],
   "source": [
    "rules_pivot = rules.pivot(index='antecedents', columns='consequents', values='confidence')\n",
    "rules_pivot.index = list(map(lambda x: list(x)[0], rules_pivot.index))\n",
    "rules_pivot.columns = list(map(lambda x: list(x)[0], rules_pivot.columns))\n",
    "sns.heatmap(rules_pivot, cmap='turbo')"
   ]
  },
  {
   "cell_type": "code",
   "execution_count": null,
   "metadata": {},
   "outputs": [],
   "source": []
  }
 ],
 "metadata": {
  "kernelspec": {
   "display_name": "Python 3",
   "language": "python",
   "name": "python3"
  },
  "language_info": {
   "codemirror_mode": {
    "name": "ipython",
    "version": 3
   },
   "file_extension": ".py",
   "mimetype": "text/x-python",
   "name": "python",
   "nbconvert_exporter": "python",
   "pygments_lexer": "ipython3",
   "version": "3.8.5"
  }
 },
 "nbformat": 4,
 "nbformat_minor": 4
}
