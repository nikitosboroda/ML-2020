{
 "cells": [
  {
   "cell_type": "code",
   "execution_count": 69,
   "metadata": {
    "collapsed": true
   },
   "outputs": [],
   "source": [
    "import pandas as pd\n",
    "import numpy as np\n",
    "from sklearn.naive_bayes import GaussianNB\n",
    "import scipy.stats as stats\n",
    "from sklearn.tree import DecisionTreeClassifier\n",
    "from sklearn import tree"
   ]
  },
  {
   "cell_type": "markdown",
   "source": [
    "## PART 1"
   ],
   "metadata": {
    "collapsed": false,
    "pycharm": {
     "name": "#%% md\n",
     "is_executing": true
    }
   }
  },
  {
   "cell_type": "code",
   "execution_count": 70,
   "outputs": [
    {
     "data": {
      "text/plain": "  a1 a2  a3 Class\n0  T  T   5     Y\n1  T  T   7     Y\n2  T  F   8     N\n3  F  F   3     Y\n4  F  T   7     N\n5  F  T   4     N\n6  F  F   5     N\n7  T  F   6     Y\n8  F  T   1     N",
      "text/html": "<div>\n<style scoped>\n    .dataframe tbody tr th:only-of-type {\n        vertical-align: middle;\n    }\n\n    .dataframe tbody tr th {\n        vertical-align: top;\n    }\n\n    .dataframe thead th {\n        text-align: right;\n    }\n</style>\n<table border=\"1\" class=\"dataframe\">\n  <thead>\n    <tr style=\"text-align: right;\">\n      <th></th>\n      <th>a1</th>\n      <th>a2</th>\n      <th>a3</th>\n      <th>Class</th>\n    </tr>\n  </thead>\n  <tbody>\n    <tr>\n      <th>0</th>\n      <td>T</td>\n      <td>T</td>\n      <td>5</td>\n      <td>Y</td>\n    </tr>\n    <tr>\n      <th>1</th>\n      <td>T</td>\n      <td>T</td>\n      <td>7</td>\n      <td>Y</td>\n    </tr>\n    <tr>\n      <th>2</th>\n      <td>T</td>\n      <td>F</td>\n      <td>8</td>\n      <td>N</td>\n    </tr>\n    <tr>\n      <th>3</th>\n      <td>F</td>\n      <td>F</td>\n      <td>3</td>\n      <td>Y</td>\n    </tr>\n    <tr>\n      <th>4</th>\n      <td>F</td>\n      <td>T</td>\n      <td>7</td>\n      <td>N</td>\n    </tr>\n    <tr>\n      <th>5</th>\n      <td>F</td>\n      <td>T</td>\n      <td>4</td>\n      <td>N</td>\n    </tr>\n    <tr>\n      <th>6</th>\n      <td>F</td>\n      <td>F</td>\n      <td>5</td>\n      <td>N</td>\n    </tr>\n    <tr>\n      <th>7</th>\n      <td>T</td>\n      <td>F</td>\n      <td>6</td>\n      <td>Y</td>\n    </tr>\n    <tr>\n      <th>8</th>\n      <td>F</td>\n      <td>T</td>\n      <td>1</td>\n      <td>N</td>\n    </tr>\n  </tbody>\n</table>\n</div>"
     },
     "execution_count": 70,
     "metadata": {},
     "output_type": "execute_result"
    }
   ],
   "source": [
    "a1 = pd.Series(['T', 'T', 'T', 'F', 'F', 'F', 'F', 'T', 'F'])\n",
    "a2 = pd.Series(['T', 'T', 'F', 'F', 'T', 'T', 'F', 'F', 'T'])\n",
    "a3 = pd.Series([5, 7, 8, 3, 7, 4, 5, 6, 1])\n",
    "Class = pd.Series(['Y', 'Y', 'N', 'Y', 'N', 'N', 'N', 'Y', 'N'])\n",
    "\n",
    "data = pd.DataFrame({'a1':a1, 'a2':a2, 'a3':a3, 'Class':Class})\n",
    "data"
   ],
   "metadata": {
    "collapsed": false,
    "pycharm": {
     "name": "#%%\n"
    }
   }
  },
  {
   "cell_type": "code",
   "execution_count": 71,
   "outputs": [
    {
     "data": {
      "text/plain": "      a1     a2  a3  Class\n0   True   True   5   True\n1   True   True   7   True\n2   True  False   8  False\n3  False  False   3   True\n4  False   True   7  False\n5  False   True   4  False\n6  False  False   5  False\n7   True  False   6   True\n8  False   True   1  False",
      "text/html": "<div>\n<style scoped>\n    .dataframe tbody tr th:only-of-type {\n        vertical-align: middle;\n    }\n\n    .dataframe tbody tr th {\n        vertical-align: top;\n    }\n\n    .dataframe thead th {\n        text-align: right;\n    }\n</style>\n<table border=\"1\" class=\"dataframe\">\n  <thead>\n    <tr style=\"text-align: right;\">\n      <th></th>\n      <th>a1</th>\n      <th>a2</th>\n      <th>a3</th>\n      <th>Class</th>\n    </tr>\n  </thead>\n  <tbody>\n    <tr>\n      <th>0</th>\n      <td>True</td>\n      <td>True</td>\n      <td>5</td>\n      <td>True</td>\n    </tr>\n    <tr>\n      <th>1</th>\n      <td>True</td>\n      <td>True</td>\n      <td>7</td>\n      <td>True</td>\n    </tr>\n    <tr>\n      <th>2</th>\n      <td>True</td>\n      <td>False</td>\n      <td>8</td>\n      <td>False</td>\n    </tr>\n    <tr>\n      <th>3</th>\n      <td>False</td>\n      <td>False</td>\n      <td>3</td>\n      <td>True</td>\n    </tr>\n    <tr>\n      <th>4</th>\n      <td>False</td>\n      <td>True</td>\n      <td>7</td>\n      <td>False</td>\n    </tr>\n    <tr>\n      <th>5</th>\n      <td>False</td>\n      <td>True</td>\n      <td>4</td>\n      <td>False</td>\n    </tr>\n    <tr>\n      <th>6</th>\n      <td>False</td>\n      <td>False</td>\n      <td>5</td>\n      <td>False</td>\n    </tr>\n    <tr>\n      <th>7</th>\n      <td>True</td>\n      <td>False</td>\n      <td>6</td>\n      <td>True</td>\n    </tr>\n    <tr>\n      <th>8</th>\n      <td>False</td>\n      <td>True</td>\n      <td>1</td>\n      <td>False</td>\n    </tr>\n  </tbody>\n</table>\n</div>"
     },
     "execution_count": 71,
     "metadata": {},
     "output_type": "execute_result"
    }
   ],
   "source": [
    "data['Class'] = data['Class'].map(lambda x : True if x == 'Y' else False)\n",
    "\n",
    "for col in ['a1', 'a2']:\n",
    "    data[col] = data[col].map(lambda x : True if x == 'T' else False)\n",
    "data"
   ],
   "metadata": {
    "collapsed": false,
    "pycharm": {
     "name": "#%%\n"
    }
   }
  },
  {
   "cell_type": "code",
   "execution_count": 72,
   "outputs": [
    {
     "data": {
      "text/plain": "     a1     a2  a3\n0  True  False   1",
      "text/html": "<div>\n<style scoped>\n    .dataframe tbody tr th:only-of-type {\n        vertical-align: middle;\n    }\n\n    .dataframe tbody tr th {\n        vertical-align: top;\n    }\n\n    .dataframe thead th {\n        text-align: right;\n    }\n</style>\n<table border=\"1\" class=\"dataframe\">\n  <thead>\n    <tr style=\"text-align: right;\">\n      <th></th>\n      <th>a1</th>\n      <th>a2</th>\n      <th>a3</th>\n    </tr>\n  </thead>\n  <tbody>\n    <tr>\n      <th>0</th>\n      <td>True</td>\n      <td>False</td>\n      <td>1</td>\n    </tr>\n  </tbody>\n</table>\n</div>"
     },
     "execution_count": 72,
     "metadata": {},
     "output_type": "execute_result"
    }
   ],
   "source": [
    "to_predict = pd.DataFrame({'a1':[True], 'a2':[False], 'a3':[1]})\n",
    "to_predict"
   ],
   "metadata": {
    "collapsed": false,
    "pycharm": {
     "name": "#%%\n"
    }
   }
  },
  {
   "cell_type": "code",
   "execution_count": 73,
   "outputs": [
    {
     "data": {
      "text/plain": "array([False])"
     },
     "execution_count": 73,
     "metadata": {},
     "output_type": "execute_result"
    }
   ],
   "source": [
    "clf = GaussianNB()\n",
    "clf.fit(data.drop('Class', axis=True), data['Class'])\n",
    "\n",
    "clf.predict(to_predict)"
   ],
   "metadata": {
    "collapsed": false,
    "pycharm": {
     "name": "#%%\n"
    }
   }
  },
  {
   "cell_type": "code",
   "execution_count": 74,
   "outputs": [
    {
     "name": "stdout",
     "output_type": "stream",
     "text": [
      "9 4 5\n"
     ]
    }
   ],
   "source": [
    "n = data.shape[0]\n",
    "n1 = np.count_nonzero(data['Class'])\n",
    "n2 = n - n1\n",
    "\n",
    "print(n, n1, n2)"
   ],
   "metadata": {
    "collapsed": false,
    "pycharm": {
     "name": "#%%\n"
    }
   }
  },
  {
   "cell_type": "code",
   "execution_count": 75,
   "outputs": [
    {
     "name": "stdout",
     "output_type": "stream",
     "text": [
      "0.4444444444444444 0.5555555555555556\n"
     ]
    }
   ],
   "source": [
    "p1 = n1 / n\n",
    "p2 = n2 / n\n",
    "\n",
    "print(p1, p2)"
   ],
   "metadata": {
    "collapsed": false,
    "pycharm": {
     "name": "#%%\n"
    }
   }
  },
  {
   "cell_type": "code",
   "execution_count": 76,
   "outputs": [
    {
     "name": "stdout",
     "output_type": "stream",
     "text": [
      "a1    0.75\n",
      "a2    0.50\n",
      "a3    5.25\n",
      "dtype: float64\n",
      "a1    0.2\n",
      "a2    0.6\n",
      "a3    5.0\n",
      "dtype: float64\n"
     ]
    }
   ],
   "source": [
    "m1 = np.mean(data[data['Class']==True].drop('Class', axis=True), axis=0)\n",
    "m2 = np.mean(data[data['Class']==False].drop('Class', axis=True), axis=0)\n",
    "\n",
    "print(m1)\n",
    "print(m2)"
   ],
   "metadata": {
    "collapsed": false,
    "pycharm": {
     "name": "#%%\n"
    }
   }
  },
  {
   "cell_type": "code",
   "execution_count": 77,
   "outputs": [
    {
     "name": "stdout",
     "output_type": "stream",
     "text": [
      "          a1        a2        a3\n",
      "a1  0.250000  0.166667  0.750000\n",
      "a2  0.166667  0.333333  0.500000\n",
      "a3  0.750000  0.500000  2.916667\n",
      "      a1    a2    a3\n",
      "a1  0.20 -0.15  0.75\n",
      "a2 -0.15  0.30 -0.75\n",
      "a3  0.75 -0.75  7.50\n"
     ]
    }
   ],
   "source": [
    "cov1 = data[data['Class']==True].drop('Class', axis=True).cov()\n",
    "cov2 = data[data['Class']==False].drop('Class', axis=True).cov()\n",
    "\n",
    "print(cov1)\n",
    "print(cov2)"
   ],
   "metadata": {
    "collapsed": false,
    "pycharm": {
     "name": "#%%\n"
    }
   }
  },
  {
   "cell_type": "code",
   "execution_count": 78,
   "outputs": [
    {
     "name": "stdout",
     "output_type": "stream",
     "text": [
      "3.4247331186367196e-10\n",
      "7.48983846562541e-05\n"
     ]
    }
   ],
   "source": [
    "# Какая вероятность меньше, та\n",
    "print(stats.multivariate_normal.pdf(to_predict, m1, cov1) * p1)\n",
    "print(stats.multivariate_normal.pdf(to_predict, m2, cov2) * p2)"
   ],
   "metadata": {
    "collapsed": false,
    "pycharm": {
     "name": "#%%\n"
    }
   }
  },
  {
   "cell_type": "markdown",
   "source": [
    "## PART 2"
   ],
   "metadata": {
    "collapsed": false,
    "pycharm": {
     "name": "#%% md\n"
    }
   }
  },
  {
   "cell_type": "code",
   "execution_count": 79,
   "outputs": [],
   "source": [
    "m1 = [1, 3]\n",
    "m2 = [5, 5]\n",
    "\n",
    "cov1 = [[5, 3], [3, 2]]\n",
    "cov2 = [[2, 0], [0, 1]]\n",
    "\n",
    "p1 = p2 = 0.5\n",
    "\n",
    "to_predict = [3, 4]"
   ],
   "metadata": {
    "collapsed": false,
    "pycharm": {
     "name": "#%%\n"
    }
   }
  },
  {
   "cell_type": "code",
   "execution_count": 80,
   "outputs": [
    {
     "name": "stdout",
     "output_type": "stream",
     "text": [
      "0.048266176315027005\n",
      "0.012555482738023718\n"
     ]
    }
   ],
   "source": [
    "print(stats.multivariate_normal.pdf(to_predict, m1, cov1)  * p1)\n",
    "print(stats.multivariate_normal.pdf(to_predict, m2, cov2)  * p2)"
   ],
   "metadata": {
    "collapsed": false,
    "pycharm": {
     "name": "#%%\n"
    }
   }
  },
  {
   "cell_type": "markdown",
   "source": [
    "## PART 3"
   ],
   "metadata": {
    "collapsed": false,
    "pycharm": {
     "name": "#%% md\n"
    }
   }
  },
  {
   "cell_type": "code",
   "execution_count": 81,
   "outputs": [
    {
     "data": {
      "text/plain": "   Age      Car Risk\n0   25   Sports    L\n1   20  Vintage    H\n2   25   Sports    L\n3   45      SUV    H\n4   20   Sports    H\n5   25      SUV    H",
      "text/html": "<div>\n<style scoped>\n    .dataframe tbody tr th:only-of-type {\n        vertical-align: middle;\n    }\n\n    .dataframe tbody tr th {\n        vertical-align: top;\n    }\n\n    .dataframe thead th {\n        text-align: right;\n    }\n</style>\n<table border=\"1\" class=\"dataframe\">\n  <thead>\n    <tr style=\"text-align: right;\">\n      <th></th>\n      <th>Age</th>\n      <th>Car</th>\n      <th>Risk</th>\n    </tr>\n  </thead>\n  <tbody>\n    <tr>\n      <th>0</th>\n      <td>25</td>\n      <td>Sports</td>\n      <td>L</td>\n    </tr>\n    <tr>\n      <th>1</th>\n      <td>20</td>\n      <td>Vintage</td>\n      <td>H</td>\n    </tr>\n    <tr>\n      <th>2</th>\n      <td>25</td>\n      <td>Sports</td>\n      <td>L</td>\n    </tr>\n    <tr>\n      <th>3</th>\n      <td>45</td>\n      <td>SUV</td>\n      <td>H</td>\n    </tr>\n    <tr>\n      <th>4</th>\n      <td>20</td>\n      <td>Sports</td>\n      <td>H</td>\n    </tr>\n    <tr>\n      <th>5</th>\n      <td>25</td>\n      <td>SUV</td>\n      <td>H</td>\n    </tr>\n  </tbody>\n</table>\n</div>"
     },
     "execution_count": 81,
     "metadata": {},
     "output_type": "execute_result"
    }
   ],
   "source": [
    "age =  pd.Series([25, 20, 25, 45, 20, 25])\n",
    "car = pd.Series(['Sports', 'Vintage', 'Sports', 'SUV', 'Sports', 'SUV'])\n",
    "risk = pd.Series(['L', 'H', 'L', 'H', 'H', 'H'])\n",
    "\n",
    "data = pd.DataFrame({'Age':age, 'Car':car, 'Risk':risk})\n",
    "data"
   ],
   "metadata": {
    "collapsed": false,
    "pycharm": {
     "name": "#%%\n"
    }
   }
  },
  {
   "cell_type": "code",
   "execution_count": 82,
   "outputs": [
    {
     "data": {
      "text/plain": "   Age Risk  SUV  Sports  Vintage\n0   25    L    0       1        0\n1   20    H    0       0        1\n2   25    L    0       1        0\n3   45    H    1       0        0\n4   20    H    0       1        0",
      "text/html": "<div>\n<style scoped>\n    .dataframe tbody tr th:only-of-type {\n        vertical-align: middle;\n    }\n\n    .dataframe tbody tr th {\n        vertical-align: top;\n    }\n\n    .dataframe thead th {\n        text-align: right;\n    }\n</style>\n<table border=\"1\" class=\"dataframe\">\n  <thead>\n    <tr style=\"text-align: right;\">\n      <th></th>\n      <th>Age</th>\n      <th>Risk</th>\n      <th>SUV</th>\n      <th>Sports</th>\n      <th>Vintage</th>\n    </tr>\n  </thead>\n  <tbody>\n    <tr>\n      <th>0</th>\n      <td>25</td>\n      <td>L</td>\n      <td>0</td>\n      <td>1</td>\n      <td>0</td>\n    </tr>\n    <tr>\n      <th>1</th>\n      <td>20</td>\n      <td>H</td>\n      <td>0</td>\n      <td>0</td>\n      <td>1</td>\n    </tr>\n    <tr>\n      <th>2</th>\n      <td>25</td>\n      <td>L</td>\n      <td>0</td>\n      <td>1</td>\n      <td>0</td>\n    </tr>\n    <tr>\n      <th>3</th>\n      <td>45</td>\n      <td>H</td>\n      <td>1</td>\n      <td>0</td>\n      <td>0</td>\n    </tr>\n    <tr>\n      <th>4</th>\n      <td>20</td>\n      <td>H</td>\n      <td>0</td>\n      <td>1</td>\n      <td>0</td>\n    </tr>\n  </tbody>\n</table>\n</div>"
     },
     "execution_count": 82,
     "metadata": {},
     "output_type": "execute_result"
    }
   ],
   "source": [
    "df = data.join(pd.get_dummies(data['Car']))\n",
    "df.drop('Car', axis=True, inplace=True)\n",
    "df.head()"
   ],
   "metadata": {
    "collapsed": false,
    "pycharm": {
     "name": "#%%\n"
    }
   }
  },
  {
   "cell_type": "code",
   "execution_count": 83,
   "outputs": [
    {
     "data": {
      "text/plain": "   Age   Risk  SUV  Sports  Vintage\n0   25  False    0       1        0\n1   20   True    0       0        1\n2   25  False    0       1        0\n3   45   True    1       0        0\n4   20   True    0       1        0\n5   25   True    1       0        0",
      "text/html": "<div>\n<style scoped>\n    .dataframe tbody tr th:only-of-type {\n        vertical-align: middle;\n    }\n\n    .dataframe tbody tr th {\n        vertical-align: top;\n    }\n\n    .dataframe thead th {\n        text-align: right;\n    }\n</style>\n<table border=\"1\" class=\"dataframe\">\n  <thead>\n    <tr style=\"text-align: right;\">\n      <th></th>\n      <th>Age</th>\n      <th>Risk</th>\n      <th>SUV</th>\n      <th>Sports</th>\n      <th>Vintage</th>\n    </tr>\n  </thead>\n  <tbody>\n    <tr>\n      <th>0</th>\n      <td>25</td>\n      <td>False</td>\n      <td>0</td>\n      <td>1</td>\n      <td>0</td>\n    </tr>\n    <tr>\n      <th>1</th>\n      <td>20</td>\n      <td>True</td>\n      <td>0</td>\n      <td>0</td>\n      <td>1</td>\n    </tr>\n    <tr>\n      <th>2</th>\n      <td>25</td>\n      <td>False</td>\n      <td>0</td>\n      <td>1</td>\n      <td>0</td>\n    </tr>\n    <tr>\n      <th>3</th>\n      <td>45</td>\n      <td>True</td>\n      <td>1</td>\n      <td>0</td>\n      <td>0</td>\n    </tr>\n    <tr>\n      <th>4</th>\n      <td>20</td>\n      <td>True</td>\n      <td>0</td>\n      <td>1</td>\n      <td>0</td>\n    </tr>\n    <tr>\n      <th>5</th>\n      <td>25</td>\n      <td>True</td>\n      <td>1</td>\n      <td>0</td>\n      <td>0</td>\n    </tr>\n  </tbody>\n</table>\n</div>"
     },
     "execution_count": 83,
     "metadata": {},
     "output_type": "execute_result"
    }
   ],
   "source": [
    "df['Risk'] = df['Risk'] == 'H'\n",
    "df"
   ],
   "metadata": {
    "collapsed": false,
    "pycharm": {
     "name": "#%%\n"
    }
   }
  },
  {
   "cell_type": "code",
   "execution_count": 98,
   "outputs": [
    {
     "data": {
      "text/plain": "DecisionTreeClassifier(criterion='entropy')"
     },
     "execution_count": 98,
     "metadata": {},
     "output_type": "execute_result"
    }
   ],
   "source": [
    "clf = DecisionTreeClassifier(criterion='entropy')\n",
    "\n",
    "clf.fit(df.drop('Risk', axis=True), df['Risk'])"
   ],
   "metadata": {
    "collapsed": false,
    "pycharm": {
     "name": "#%%\n"
    }
   }
  },
  {
   "cell_type": "code",
   "execution_count": 99,
   "outputs": [
    {
     "data": {
      "text/plain": "[Text(133.92000000000002, 181.2, 'Sports <= 0.5\\nentropy = 0.918\\nsamples = 6\\nvalue = [2, 4]\\nclass = H'),\n Text(66.96000000000001, 108.72, 'entropy = 0.0\\nsamples = 3\\nvalue = [0, 3]\\nclass = H'),\n Text(200.88000000000002, 108.72, 'Age <= 22.5\\nentropy = 0.918\\nsamples = 3\\nvalue = [2, 1]\\nclass = L'),\n Text(133.92000000000002, 36.23999999999998, 'entropy = 0.0\\nsamples = 1\\nvalue = [0, 1]\\nclass = H'),\n Text(267.84000000000003, 36.23999999999998, 'entropy = 0.0\\nsamples = 2\\nvalue = [2, 0]\\nclass = L')]"
     },
     "execution_count": 99,
     "metadata": {},
     "output_type": "execute_result"
    },
    {
     "data": {
      "text/plain": "<Figure size 432x288 with 1 Axes>",
      "image/png": "[encoded data removed]"
     },
     "metadata": {
      "needs_background": "light"
     },
     "output_type": "display_data"
    }
   ],
   "source": [
    "tree.plot_tree(clf, feature_names=df.columns.drop('Risk'), class_names=['L', 'H'])"
   ],
   "metadata": {
    "collapsed": false,
    "pycharm": {
     "name": "#%%\n"
    }
   }
  },
  {
   "cell_type": "code",
   "execution_count": 100,
   "outputs": [
    {
     "data": {
      "text/plain": "array([ True])"
     },
     "execution_count": 100,
     "metadata": {},
     "output_type": "execute_result"
    }
   ],
   "source": [
    "# TRUE == 'H'\n",
    "clf.predict([[27, 0, 0, 1]])"
   ],
   "metadata": {
    "collapsed": false,
    "pycharm": {
     "name": "#%%\n"
    }
   }
  },
  {
   "cell_type": "code",
   "execution_count": null,
   "outputs": [],
   "source": [],
   "metadata": {
    "collapsed": false,
    "pycharm": {
     "name": "#%%\n"
    }
   }
  }
 ],
 "metadata": {
  "kernelspec": {
   "name": "pycharm-ea969764",
   "language": "python",
   "display_name": "PyCharm (ml_course)"
  },
  "language_info": {
   "codemirror_mode": {
    "name": "ipython",
    "version": 2
   },
   "file_extension": ".py",
   "mimetype": "text/x-python",
   "name": "python",
   "nbconvert_exporter": "python",
   "pygments_lexer": "ipython2",
   "version": "2.7.6"
  }
 },
 "nbformat": 4,
 "nbformat_minor": 0
}