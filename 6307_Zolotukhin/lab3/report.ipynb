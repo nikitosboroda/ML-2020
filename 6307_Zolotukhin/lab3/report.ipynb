{
 "cells": [
  {
   "cell_type": "markdown",
   "metadata": {
    "pycharm": {
     "name": "#%% md\n"
    }
   },
   "source": [
    "## Загрузка данных"
   ]
  },
  {
   "cell_type": "code",
   "execution_count": 1,
   "metadata": {
    "pycharm": {
     "name": "#%%\n"
    }
   },
   "outputs": [],
   "source": [
    "import pandas as pd\n",
    "import numpy as np\n",
    "import matplotlib.pyplot as plt\n",
    "\n",
    "plt.rcParams[\"figure.figsize\"] = (20, 10)\n",
    "plt.rcParams['figure.facecolor'] = 'white'"
   ]
  },
  {
   "cell_type": "code",
   "execution_count": 2,
   "metadata": {
    "pycharm": {
     "name": "#%%\n"
    }
   },
   "outputs": [],
   "source": [
    "all_data = pd.read_csv('dataset_group.csv', header=None)\n",
    "# В файле нет строки с названием столбцов, поэтому параметр header равен None.\n",
    "# Интерес представляет информация об id покупателя - столбец с названием 1\n",
    "# Название купленного товара хранится в столбце с названием 2"
   ]
  },
  {
   "cell_type": "code",
   "execution_count": 3,
   "metadata": {
    "pycharm": {
     "name": "#%%\n"
    }
   },
   "outputs": [
    {
     "name": "stdout",
     "output_type": "stream",
     "text": [
      "Buyers: 1139\n"
     ]
    }
   ],
   "source": [
    "unique_id = list(set(all_data[1]))\n",
    "print(f'Buyers: {len(unique_id)}') # Выведем количество id"
   ]
  },
  {
   "cell_type": "code",
   "execution_count": 4,
   "metadata": {
    "pycharm": {
     "name": "#%%\n"
    }
   },
   "outputs": [
    {
     "name": "stdout",
     "output_type": "stream",
     "text": [
      "Items: 38\n"
     ]
    }
   ],
   "source": [
    "items = list(set(all_data[2]))\n",
    "print(f'Items: {len(items)}') # Выведем количество товаров"
   ]
  },
  {
   "cell_type": "code",
   "execution_count": 5,
   "metadata": {
    "pycharm": {
     "name": "#%%\n"
    }
   },
   "outputs": [],
   "source": [
    "dataset = [[elem for elem in all_data[all_data[1] == id][2] if elem in\n",
    "items] for id in unique_id]"
   ]
  },
  {
   "cell_type": "markdown",
   "metadata": {
    "pycharm": {
     "name": "#%% md\n"
    }
   },
   "source": [
    "## Подготовка данных"
   ]
  },
  {
   "cell_type": "code",
   "execution_count": 6,
   "metadata": {
    "pycharm": {
     "name": "#%%\n"
    }
   },
   "outputs": [],
   "source": [
    "from mlxtend.preprocessing import TransactionEncoder\n",
    "te = TransactionEncoder()\n",
    "te_ary = te.fit(dataset).transform(dataset)\n",
    "df = pd.DataFrame(te_ary, columns=te.columns_)"
   ]
  },
  {
   "cell_type": "code",
   "execution_count": 7,
   "metadata": {
    "pycharm": {
     "name": "#%%\n"
    }
   },
   "outputs": [
    {
     "data": {
      "text/plain": "      all- purpose  aluminum foil  bagels   beef  butter  cereals  cheeses  \\\n0             True           True   False   True    True    False    False   \n1            False           True   False  False   False     True     True   \n2            False          False    True  False   False     True     True   \n3             True          False   False  False   False     True    False   \n4             True          False   False  False   False    False    False   \n...            ...            ...     ...    ...     ...      ...      ...   \n1134          True          False   False   True   False     True     True   \n1135         False          False   False  False   False     True     True   \n1136         False          False    True   True   False    False    False   \n1137          True          False   False   True   False    False     True   \n1138         False          False   False  False   False    False    False   \n\n      coffee/tea  dinner rolls  dishwashing liquid/detergent  ...  shampoo  \\\n0          False          True                         False  ...     True   \n1          False         False                          True  ...     True   \n2          False          True                         False  ...     True   \n3          False         False                         False  ...    False   \n4          False          True                         False  ...    False   \n...          ...           ...                           ...  ...      ...   \n1134        True          True                          True  ...     True   \n1135        True          True                          True  ...    False   \n1136       False          True                          True  ...     True   \n1137       False         False                         False  ...    False   \n1138       False         False                         False  ...     True   \n\n       soap   soda  spaghetti sauce  sugar  toilet paper  tortillas  \\\n0      True   True            False  False         False      False   \n1     False  False            False  False          True       True   \n2      True   True             True  False          True      False   \n3     False   True            False  False          True      False   \n4     False   True             True  False          True       True   \n...     ...    ...              ...    ...           ...        ...   \n1134   True  False            False   True         False      False   \n1135   True  False             True  False         False      False   \n1136   True  False            False   True         False       True   \n1137   True   True             True   True          True      False   \n1138  False   True            False  False         False      False   \n\n      vegetables  waffles  yogurt  \n0           True    False    True  \n1           True     True    True  \n2           True    False   False  \n3          False    False   False  \n4           True     True    True  \n...          ...      ...     ...  \n1134       False    False   False  \n1135        True    False   False  \n1136        True    False    True  \n1137        True     True    True  \n1138        True    False   False  \n\n[1139 rows x 38 columns]",
      "text/html": "<div>\n<style scoped>\n    .dataframe tbody tr th:only-of-type {\n        vertical-align: middle;\n    }\n\n    .dataframe tbody tr th {\n        vertical-align: top;\n    }\n\n    .dataframe thead th {\n        text-align: right;\n    }\n</style>\n<table border=\"1\" class=\"dataframe\">\n  <thead>\n    <tr style=\"text-align: right;\">\n      <th></th>\n      <th>all- purpose</th>\n      <th>aluminum foil</th>\n      <th>bagels</th>\n      <th>beef</th>\n      <th>butter</th>\n      <th>cereals</th>\n      <th>cheeses</th>\n      <th>coffee/tea</th>\n      <th>dinner rolls</th>\n      <th>dishwashing liquid/detergent</th>\n      <th>...</th>\n      <th>shampoo</th>\n      <th>soap</th>\n      <th>soda</th>\n      <th>spaghetti sauce</th>\n      <th>sugar</th>\n      <th>toilet paper</th>\n      <th>tortillas</th>\n      <th>vegetables</th>\n      <th>waffles</th>\n      <th>yogurt</th>\n    </tr>\n  </thead>\n  <tbody>\n    <tr>\n      <th>0</th>\n      <td>True</td>\n      <td>True</td>\n      <td>False</td>\n      <td>True</td>\n      <td>True</td>\n      <td>False</td>\n      <td>False</td>\n      <td>False</td>\n      <td>True</td>\n      <td>False</td>\n      <td>...</td>\n      <td>True</td>\n      <td>True</td>\n      <td>True</td>\n      <td>False</td>\n      <td>False</td>\n      <td>False</td>\n      <td>False</td>\n      <td>True</td>\n      <td>False</td>\n      <td>True</td>\n    </tr>\n    <tr>\n      <th>1</th>\n      <td>False</td>\n      <td>True</td>\n      <td>False</td>\n      <td>False</td>\n      <td>False</td>\n      <td>True</td>\n      <td>True</td>\n      <td>False</td>\n      <td>False</td>\n      <td>True</td>\n      <td>...</td>\n      <td>True</td>\n      <td>False</td>\n      <td>False</td>\n      <td>False</td>\n      <td>False</td>\n      <td>True</td>\n      <td>True</td>\n      <td>True</td>\n      <td>True</td>\n      <td>True</td>\n    </tr>\n    <tr>\n      <th>2</th>\n      <td>False</td>\n      <td>False</td>\n      <td>True</td>\n      <td>False</td>\n      <td>False</td>\n      <td>True</td>\n      <td>True</td>\n      <td>False</td>\n      <td>True</td>\n      <td>False</td>\n      <td>...</td>\n      <td>True</td>\n      <td>True</td>\n      <td>True</td>\n      <td>True</td>\n      <td>False</td>\n      <td>True</td>\n      <td>False</td>\n      <td>True</td>\n      <td>False</td>\n      <td>False</td>\n    </tr>\n    <tr>\n      <th>3</th>\n      <td>True</td>\n      <td>False</td>\n      <td>False</td>\n      <td>False</td>\n      <td>False</td>\n      <td>True</td>\n      <td>False</td>\n      <td>False</td>\n      <td>False</td>\n      <td>False</td>\n      <td>...</td>\n      <td>False</td>\n      <td>False</td>\n      <td>True</td>\n      <td>False</td>\n      <td>False</td>\n      <td>True</td>\n      <td>False</td>\n      <td>False</td>\n      <td>False</td>\n      <td>False</td>\n    </tr>\n    <tr>\n      <th>4</th>\n      <td>True</td>\n      <td>False</td>\n      <td>False</td>\n      <td>False</td>\n      <td>False</td>\n      <td>False</td>\n      <td>False</td>\n      <td>False</td>\n      <td>True</td>\n      <td>False</td>\n      <td>...</td>\n      <td>False</td>\n      <td>False</td>\n      <td>True</td>\n      <td>True</td>\n      <td>False</td>\n      <td>True</td>\n      <td>True</td>\n      <td>True</td>\n      <td>True</td>\n      <td>True</td>\n    </tr>\n    <tr>\n      <th>...</th>\n      <td>...</td>\n      <td>...</td>\n      <td>...</td>\n      <td>...</td>\n      <td>...</td>\n      <td>...</td>\n      <td>...</td>\n      <td>...</td>\n      <td>...</td>\n      <td>...</td>\n      <td>...</td>\n      <td>...</td>\n      <td>...</td>\n      <td>...</td>\n      <td>...</td>\n      <td>...</td>\n      <td>...</td>\n      <td>...</td>\n      <td>...</td>\n      <td>...</td>\n      <td>...</td>\n    </tr>\n    <tr>\n      <th>1134</th>\n      <td>True</td>\n      <td>False</td>\n      <td>False</td>\n      <td>True</td>\n      <td>False</td>\n      <td>True</td>\n      <td>True</td>\n      <td>True</td>\n      <td>True</td>\n      <td>True</td>\n      <td>...</td>\n      <td>True</td>\n      <td>True</td>\n      <td>False</td>\n      <td>False</td>\n      <td>True</td>\n      <td>False</td>\n      <td>False</td>\n      <td>False</td>\n      <td>False</td>\n      <td>False</td>\n    </tr>\n    <tr>\n      <th>1135</th>\n      <td>False</td>\n      <td>False</td>\n      <td>False</td>\n      <td>False</td>\n      <td>False</td>\n      <td>True</td>\n      <td>True</td>\n      <td>True</td>\n      <td>True</td>\n      <td>True</td>\n      <td>...</td>\n      <td>False</td>\n      <td>True</td>\n      <td>False</td>\n      <td>True</td>\n      <td>False</td>\n      <td>False</td>\n      <td>False</td>\n      <td>True</td>\n      <td>False</td>\n      <td>False</td>\n    </tr>\n    <tr>\n      <th>1136</th>\n      <td>False</td>\n      <td>False</td>\n      <td>True</td>\n      <td>True</td>\n      <td>False</td>\n      <td>False</td>\n      <td>False</td>\n      <td>False</td>\n      <td>True</td>\n      <td>True</td>\n      <td>...</td>\n      <td>True</td>\n      <td>True</td>\n      <td>False</td>\n      <td>False</td>\n      <td>True</td>\n      <td>False</td>\n      <td>True</td>\n      <td>True</td>\n      <td>False</td>\n      <td>True</td>\n    </tr>\n    <tr>\n      <th>1137</th>\n      <td>True</td>\n      <td>False</td>\n      <td>False</td>\n      <td>True</td>\n      <td>False</td>\n      <td>False</td>\n      <td>True</td>\n      <td>False</td>\n      <td>False</td>\n      <td>False</td>\n      <td>...</td>\n      <td>False</td>\n      <td>True</td>\n      <td>True</td>\n      <td>True</td>\n      <td>True</td>\n      <td>True</td>\n      <td>False</td>\n      <td>True</td>\n      <td>True</td>\n      <td>True</td>\n    </tr>\n    <tr>\n      <th>1138</th>\n      <td>False</td>\n      <td>False</td>\n      <td>False</td>\n      <td>False</td>\n      <td>False</td>\n      <td>False</td>\n      <td>False</td>\n      <td>False</td>\n      <td>False</td>\n      <td>False</td>\n      <td>...</td>\n      <td>True</td>\n      <td>False</td>\n      <td>True</td>\n      <td>False</td>\n      <td>False</td>\n      <td>False</td>\n      <td>False</td>\n      <td>True</td>\n      <td>False</td>\n      <td>False</td>\n    </tr>\n  </tbody>\n</table>\n<p>1139 rows × 38 columns</p>\n</div>"
     },
     "execution_count": 7,
     "metadata": {},
     "output_type": "execute_result"
    }
   ],
   "source": [
    "df"
   ]
  },
  {
   "cell_type": "markdown",
   "metadata": {
    "pycharm": {
     "name": "#%% md\n"
    }
   },
   "source": [
    "Исходные данные были представлены в виде таблицы с колонками: дата, id покупателя и наименование покупки.\n",
    "Теперь данные представлены так, что для каждого покупателя (наименование ряда) существуют колонки, каждая\n",
    "из которых представляет собой один из продуктов, а значения для каждого покупателя - купил он этот продукт\n",
    "или нет. Проще говоря получилась \"тепловая карта\" продуктов для покупателей."
   ]
  },
  {
   "cell_type": "markdown",
   "metadata": {
    "pycharm": {
     "name": "#%% md\n"
    }
   },
   "source": [
    "## Ассоциативный анализ с использованием алгоритма Apriori"
   ]
  },
  {
   "cell_type": "code",
   "execution_count": 8,
   "metadata": {
    "pycharm": {
     "name": "#%%\n"
    }
   },
   "outputs": [
    {
     "data": {
      "text/plain": "     support                                    itemsets  length\n0   0.374890                              (all- purpose)       1\n1   0.384548                             (aluminum foil)       1\n2   0.385426                                    (bagels)       1\n3   0.374890                                      (beef)       1\n4   0.367867                                    (butter)       1\n5   0.395961                                   (cereals)       1\n6   0.390694                                   (cheeses)       1\n7   0.379280                                (coffee/tea)       1\n8   0.388938                              (dinner rolls)       1\n9   0.388060              (dishwashing liquid/detergent)       1\n10  0.389816                                      (eggs)       1\n11  0.352941                                     (flour)       1\n12  0.370500                                    (fruits)       1\n13  0.345917                                 (hand soap)       1\n14  0.398595                                 (ice cream)       1\n15  0.375768                          (individual meals)       1\n16  0.376646                                     (juice)       1\n17  0.371378                                   (ketchup)       1\n18  0.378402                         (laundry detergent)       1\n19  0.395083                                (lunch meat)       1\n20  0.380158                                      (milk)       1\n21  0.375768                                     (mixes)       1\n22  0.362599                              (paper towels)       1\n23  0.371378                                     (pasta)       1\n24  0.355575                                      (pork)       1\n25  0.421422                                   (poultry)       1\n26  0.367867                             (sandwich bags)       1\n27  0.349429                           (sandwich loaves)       1\n28  0.368745                                   (shampoo)       1\n29  0.379280                                      (soap)       1\n30  0.390694                                      (soda)       1\n31  0.373134                           (spaghetti sauce)       1\n32  0.360843                                     (sugar)       1\n33  0.378402                              (toilet paper)       1\n34  0.369622                                 (tortillas)       1\n35  0.739245                                (vegetables)       1\n36  0.394205                                   (waffles)       1\n37  0.384548                                    (yogurt)       1\n38  0.310799                 (aluminum foil, vegetables)       2\n39  0.300263                        (bagels, vegetables)       2\n40  0.310799                       (vegetables, cereals)       2\n41  0.309043                       (cheeses, vegetables)       2\n42  0.308165                  (dinner rolls, vegetables)       2\n43  0.306409  (dishwashing liquid/detergent, vegetables)       2\n44  0.326602                          (eggs, vegetables)       2\n45  0.302897                     (ice cream, vegetables)       2\n46  0.309043             (laundry detergent, vegetables)       2\n47  0.311677                    (vegetables, lunch meat)       2\n48  0.331870                       (poultry, vegetables)       2\n49  0.305531                          (vegetables, soda)       2\n50  0.315189                       (waffles, vegetables)       2\n51  0.319579                        (yogurt, vegetables)       2",
      "text/html": "<div>\n<style scoped>\n    .dataframe tbody tr th:only-of-type {\n        vertical-align: middle;\n    }\n\n    .dataframe tbody tr th {\n        vertical-align: top;\n    }\n\n    .dataframe thead th {\n        text-align: right;\n    }\n</style>\n<table border=\"1\" class=\"dataframe\">\n  <thead>\n    <tr style=\"text-align: right;\">\n      <th></th>\n      <th>support</th>\n      <th>itemsets</th>\n      <th>length</th>\n    </tr>\n  </thead>\n  <tbody>\n    <tr>\n      <th>0</th>\n      <td>0.374890</td>\n      <td>(all- purpose)</td>\n      <td>1</td>\n    </tr>\n    <tr>\n      <th>1</th>\n      <td>0.384548</td>\n      <td>(aluminum foil)</td>\n      <td>1</td>\n    </tr>\n    <tr>\n      <th>2</th>\n      <td>0.385426</td>\n      <td>(bagels)</td>\n      <td>1</td>\n    </tr>\n    <tr>\n      <th>3</th>\n      <td>0.374890</td>\n      <td>(beef)</td>\n      <td>1</td>\n    </tr>\n    <tr>\n      <th>4</th>\n      <td>0.367867</td>\n      <td>(butter)</td>\n      <td>1</td>\n    </tr>\n    <tr>\n      <th>5</th>\n      <td>0.395961</td>\n      <td>(cereals)</td>\n      <td>1</td>\n    </tr>\n    <tr>\n      <th>6</th>\n      <td>0.390694</td>\n      <td>(cheeses)</td>\n      <td>1</td>\n    </tr>\n    <tr>\n      <th>7</th>\n      <td>0.379280</td>\n      <td>(coffee/tea)</td>\n      <td>1</td>\n    </tr>\n    <tr>\n      <th>8</th>\n      <td>0.388938</td>\n      <td>(dinner rolls)</td>\n      <td>1</td>\n    </tr>\n    <tr>\n      <th>9</th>\n      <td>0.388060</td>\n      <td>(dishwashing liquid/detergent)</td>\n      <td>1</td>\n    </tr>\n    <tr>\n      <th>10</th>\n      <td>0.389816</td>\n      <td>(eggs)</td>\n      <td>1</td>\n    </tr>\n    <tr>\n      <th>11</th>\n      <td>0.352941</td>\n      <td>(flour)</td>\n      <td>1</td>\n    </tr>\n    <tr>\n      <th>12</th>\n      <td>0.370500</td>\n      <td>(fruits)</td>\n      <td>1</td>\n    </tr>\n    <tr>\n      <th>13</th>\n      <td>0.345917</td>\n      <td>(hand soap)</td>\n      <td>1</td>\n    </tr>\n    <tr>\n      <th>14</th>\n      <td>0.398595</td>\n      <td>(ice cream)</td>\n      <td>1</td>\n    </tr>\n    <tr>\n      <th>15</th>\n      <td>0.375768</td>\n      <td>(individual meals)</td>\n      <td>1</td>\n    </tr>\n    <tr>\n      <th>16</th>\n      <td>0.376646</td>\n      <td>(juice)</td>\n      <td>1</td>\n    </tr>\n    <tr>\n      <th>17</th>\n      <td>0.371378</td>\n      <td>(ketchup)</td>\n      <td>1</td>\n    </tr>\n    <tr>\n      <th>18</th>\n      <td>0.378402</td>\n      <td>(laundry detergent)</td>\n      <td>1</td>\n    </tr>\n    <tr>\n      <th>19</th>\n      <td>0.395083</td>\n      <td>(lunch meat)</td>\n      <td>1</td>\n    </tr>\n    <tr>\n      <th>20</th>\n      <td>0.380158</td>\n      <td>(milk)</td>\n      <td>1</td>\n    </tr>\n    <tr>\n      <th>21</th>\n      <td>0.375768</td>\n      <td>(mixes)</td>\n      <td>1</td>\n    </tr>\n    <tr>\n      <th>22</th>\n      <td>0.362599</td>\n      <td>(paper towels)</td>\n      <td>1</td>\n    </tr>\n    <tr>\n      <th>23</th>\n      <td>0.371378</td>\n      <td>(pasta)</td>\n      <td>1</td>\n    </tr>\n    <tr>\n      <th>24</th>\n      <td>0.355575</td>\n      <td>(pork)</td>\n      <td>1</td>\n    </tr>\n    <tr>\n      <th>25</th>\n      <td>0.421422</td>\n      <td>(poultry)</td>\n      <td>1</td>\n    </tr>\n    <tr>\n      <th>26</th>\n      <td>0.367867</td>\n      <td>(sandwich bags)</td>\n      <td>1</td>\n    </tr>\n    <tr>\n      <th>27</th>\n      <td>0.349429</td>\n      <td>(sandwich loaves)</td>\n      <td>1</td>\n    </tr>\n    <tr>\n      <th>28</th>\n      <td>0.368745</td>\n      <td>(shampoo)</td>\n      <td>1</td>\n    </tr>\n    <tr>\n      <th>29</th>\n      <td>0.379280</td>\n      <td>(soap)</td>\n      <td>1</td>\n    </tr>\n    <tr>\n      <th>30</th>\n      <td>0.390694</td>\n      <td>(soda)</td>\n      <td>1</td>\n    </tr>\n    <tr>\n      <th>31</th>\n      <td>0.373134</td>\n      <td>(spaghetti sauce)</td>\n      <td>1</td>\n    </tr>\n    <tr>\n      <th>32</th>\n      <td>0.360843</td>\n      <td>(sugar)</td>\n      <td>1</td>\n    </tr>\n    <tr>\n      <th>33</th>\n      <td>0.378402</td>\n      <td>(toilet paper)</td>\n      <td>1</td>\n    </tr>\n    <tr>\n      <th>34</th>\n      <td>0.369622</td>\n      <td>(tortillas)</td>\n      <td>1</td>\n    </tr>\n    <tr>\n      <th>35</th>\n      <td>0.739245</td>\n      <td>(vegetables)</td>\n      <td>1</td>\n    </tr>\n    <tr>\n      <th>36</th>\n      <td>0.394205</td>\n      <td>(waffles)</td>\n      <td>1</td>\n    </tr>\n    <tr>\n      <th>37</th>\n      <td>0.384548</td>\n      <td>(yogurt)</td>\n      <td>1</td>\n    </tr>\n    <tr>\n      <th>38</th>\n      <td>0.310799</td>\n      <td>(aluminum foil, vegetables)</td>\n      <td>2</td>\n    </tr>\n    <tr>\n      <th>39</th>\n      <td>0.300263</td>\n      <td>(bagels, vegetables)</td>\n      <td>2</td>\n    </tr>\n    <tr>\n      <th>40</th>\n      <td>0.310799</td>\n      <td>(vegetables, cereals)</td>\n      <td>2</td>\n    </tr>\n    <tr>\n      <th>41</th>\n      <td>0.309043</td>\n      <td>(cheeses, vegetables)</td>\n      <td>2</td>\n    </tr>\n    <tr>\n      <th>42</th>\n      <td>0.308165</td>\n      <td>(dinner rolls, vegetables)</td>\n      <td>2</td>\n    </tr>\n    <tr>\n      <th>43</th>\n      <td>0.306409</td>\n      <td>(dishwashing liquid/detergent, vegetables)</td>\n      <td>2</td>\n    </tr>\n    <tr>\n      <th>44</th>\n      <td>0.326602</td>\n      <td>(eggs, vegetables)</td>\n      <td>2</td>\n    </tr>\n    <tr>\n      <th>45</th>\n      <td>0.302897</td>\n      <td>(ice cream, vegetables)</td>\n      <td>2</td>\n    </tr>\n    <tr>\n      <th>46</th>\n      <td>0.309043</td>\n      <td>(laundry detergent, vegetables)</td>\n      <td>2</td>\n    </tr>\n    <tr>\n      <th>47</th>\n      <td>0.311677</td>\n      <td>(vegetables, lunch meat)</td>\n      <td>2</td>\n    </tr>\n    <tr>\n      <th>48</th>\n      <td>0.331870</td>\n      <td>(poultry, vegetables)</td>\n      <td>2</td>\n    </tr>\n    <tr>\n      <th>49</th>\n      <td>0.305531</td>\n      <td>(vegetables, soda)</td>\n      <td>2</td>\n    </tr>\n    <tr>\n      <th>50</th>\n      <td>0.315189</td>\n      <td>(waffles, vegetables)</td>\n      <td>2</td>\n    </tr>\n    <tr>\n      <th>51</th>\n      <td>0.319579</td>\n      <td>(yogurt, vegetables)</td>\n      <td>2</td>\n    </tr>\n  </tbody>\n</table>\n</div>"
     },
     "execution_count": 8,
     "metadata": {},
     "output_type": "execute_result"
    }
   ],
   "source": [
    "from mlxtend.frequent_patterns import apriori\n",
    "\n",
    "results = apriori(df, min_support=0.3, use_colnames=True)\n",
    "results['length'] = results['itemsets'].apply(lambda x: len(x)) # Добавление размера набора\n",
    "results"
   ]
  },
  {
   "cell_type": "markdown",
   "metadata": {
    "pycharm": {
     "name": "#%% md\n"
    }
   },
   "source": [
    "С помощью алгоритма apriori мы выделили часто встречающиеся сочетания (наборы) продуктов, которые покупают люди\n",
    "(в данном датасете), в том числе наборы из одного продукта. Частоту, которая считается \"частой\", мы задали параметром\n",
    "min_support. Частота = количество строк с всеми True для набора / общее количество строк."
   ]
  },
  {
   "cell_type": "code",
   "execution_count": 9,
   "metadata": {
    "pycharm": {
     "name": "#%%\n"
    }
   },
   "outputs": [
    {
     "data": {
      "text/plain": "     support                        itemsets\n0   0.374890                  (all- purpose)\n1   0.384548                 (aluminum foil)\n2   0.385426                        (bagels)\n3   0.374890                          (beef)\n4   0.367867                        (butter)\n5   0.395961                       (cereals)\n6   0.390694                       (cheeses)\n7   0.379280                    (coffee/tea)\n8   0.388938                  (dinner rolls)\n9   0.388060  (dishwashing liquid/detergent)\n10  0.389816                          (eggs)\n11  0.352941                         (flour)\n12  0.370500                        (fruits)\n13  0.345917                     (hand soap)\n14  0.398595                     (ice cream)\n15  0.375768              (individual meals)\n16  0.376646                         (juice)\n17  0.371378                       (ketchup)\n18  0.378402             (laundry detergent)\n19  0.395083                    (lunch meat)\n20  0.380158                          (milk)\n21  0.375768                         (mixes)\n22  0.362599                  (paper towels)\n23  0.371378                         (pasta)\n24  0.355575                          (pork)\n25  0.421422                       (poultry)\n26  0.367867                 (sandwich bags)\n27  0.349429               (sandwich loaves)\n28  0.368745                       (shampoo)\n29  0.379280                          (soap)\n30  0.390694                          (soda)\n31  0.373134               (spaghetti sauce)\n32  0.360843                         (sugar)\n33  0.378402                  (toilet paper)\n34  0.369622                     (tortillas)\n35  0.739245                    (vegetables)\n36  0.394205                       (waffles)\n37  0.384548                        (yogurt)",
      "text/html": "<div>\n<style scoped>\n    .dataframe tbody tr th:only-of-type {\n        vertical-align: middle;\n    }\n\n    .dataframe tbody tr th {\n        vertical-align: top;\n    }\n\n    .dataframe thead th {\n        text-align: right;\n    }\n</style>\n<table border=\"1\" class=\"dataframe\">\n  <thead>\n    <tr style=\"text-align: right;\">\n      <th></th>\n      <th>support</th>\n      <th>itemsets</th>\n    </tr>\n  </thead>\n  <tbody>\n    <tr>\n      <th>0</th>\n      <td>0.374890</td>\n      <td>(all- purpose)</td>\n    </tr>\n    <tr>\n      <th>1</th>\n      <td>0.384548</td>\n      <td>(aluminum foil)</td>\n    </tr>\n    <tr>\n      <th>2</th>\n      <td>0.385426</td>\n      <td>(bagels)</td>\n    </tr>\n    <tr>\n      <th>3</th>\n      <td>0.374890</td>\n      <td>(beef)</td>\n    </tr>\n    <tr>\n      <th>4</th>\n      <td>0.367867</td>\n      <td>(butter)</td>\n    </tr>\n    <tr>\n      <th>5</th>\n      <td>0.395961</td>\n      <td>(cereals)</td>\n    </tr>\n    <tr>\n      <th>6</th>\n      <td>0.390694</td>\n      <td>(cheeses)</td>\n    </tr>\n    <tr>\n      <th>7</th>\n      <td>0.379280</td>\n      <td>(coffee/tea)</td>\n    </tr>\n    <tr>\n      <th>8</th>\n      <td>0.388938</td>\n      <td>(dinner rolls)</td>\n    </tr>\n    <tr>\n      <th>9</th>\n      <td>0.388060</td>\n      <td>(dishwashing liquid/detergent)</td>\n    </tr>\n    <tr>\n      <th>10</th>\n      <td>0.389816</td>\n      <td>(eggs)</td>\n    </tr>\n    <tr>\n      <th>11</th>\n      <td>0.352941</td>\n      <td>(flour)</td>\n    </tr>\n    <tr>\n      <th>12</th>\n      <td>0.370500</td>\n      <td>(fruits)</td>\n    </tr>\n    <tr>\n      <th>13</th>\n      <td>0.345917</td>\n      <td>(hand soap)</td>\n    </tr>\n    <tr>\n      <th>14</th>\n      <td>0.398595</td>\n      <td>(ice cream)</td>\n    </tr>\n    <tr>\n      <th>15</th>\n      <td>0.375768</td>\n      <td>(individual meals)</td>\n    </tr>\n    <tr>\n      <th>16</th>\n      <td>0.376646</td>\n      <td>(juice)</td>\n    </tr>\n    <tr>\n      <th>17</th>\n      <td>0.371378</td>\n      <td>(ketchup)</td>\n    </tr>\n    <tr>\n      <th>18</th>\n      <td>0.378402</td>\n      <td>(laundry detergent)</td>\n    </tr>\n    <tr>\n      <th>19</th>\n      <td>0.395083</td>\n      <td>(lunch meat)</td>\n    </tr>\n    <tr>\n      <th>20</th>\n      <td>0.380158</td>\n      <td>(milk)</td>\n    </tr>\n    <tr>\n      <th>21</th>\n      <td>0.375768</td>\n      <td>(mixes)</td>\n    </tr>\n    <tr>\n      <th>22</th>\n      <td>0.362599</td>\n      <td>(paper towels)</td>\n    </tr>\n    <tr>\n      <th>23</th>\n      <td>0.371378</td>\n      <td>(pasta)</td>\n    </tr>\n    <tr>\n      <th>24</th>\n      <td>0.355575</td>\n      <td>(pork)</td>\n    </tr>\n    <tr>\n      <th>25</th>\n      <td>0.421422</td>\n      <td>(poultry)</td>\n    </tr>\n    <tr>\n      <th>26</th>\n      <td>0.367867</td>\n      <td>(sandwich bags)</td>\n    </tr>\n    <tr>\n      <th>27</th>\n      <td>0.349429</td>\n      <td>(sandwich loaves)</td>\n    </tr>\n    <tr>\n      <th>28</th>\n      <td>0.368745</td>\n      <td>(shampoo)</td>\n    </tr>\n    <tr>\n      <th>29</th>\n      <td>0.379280</td>\n      <td>(soap)</td>\n    </tr>\n    <tr>\n      <th>30</th>\n      <td>0.390694</td>\n      <td>(soda)</td>\n    </tr>\n    <tr>\n      <th>31</th>\n      <td>0.373134</td>\n      <td>(spaghetti sauce)</td>\n    </tr>\n    <tr>\n      <th>32</th>\n      <td>0.360843</td>\n      <td>(sugar)</td>\n    </tr>\n    <tr>\n      <th>33</th>\n      <td>0.378402</td>\n      <td>(toilet paper)</td>\n    </tr>\n    <tr>\n      <th>34</th>\n      <td>0.369622</td>\n      <td>(tortillas)</td>\n    </tr>\n    <tr>\n      <th>35</th>\n      <td>0.739245</td>\n      <td>(vegetables)</td>\n    </tr>\n    <tr>\n      <th>36</th>\n      <td>0.394205</td>\n      <td>(waffles)</td>\n    </tr>\n    <tr>\n      <th>37</th>\n      <td>0.384548</td>\n      <td>(yogurt)</td>\n    </tr>\n  </tbody>\n</table>\n</div>"
     },
     "execution_count": 9,
     "metadata": {},
     "output_type": "execute_result"
    }
   ],
   "source": [
    "results = apriori(df, min_support=0.3, use_colnames=True, max_len=1)\n",
    "results"
   ]
  },
  {
   "cell_type": "code",
   "execution_count": 10,
   "metadata": {
    "pycharm": {
     "name": "#%%\n"
    }
   },
   "outputs": [
    {
     "data": {
      "text/plain": "     support                                    itemsets  length\n38  0.310799                 (aluminum foil, vegetables)       2\n39  0.300263                        (bagels, vegetables)       2\n40  0.310799                       (vegetables, cereals)       2\n41  0.309043                       (cheeses, vegetables)       2\n42  0.308165                  (dinner rolls, vegetables)       2\n43  0.306409  (dishwashing liquid/detergent, vegetables)       2\n44  0.326602                          (eggs, vegetables)       2\n45  0.302897                     (ice cream, vegetables)       2\n46  0.309043             (laundry detergent, vegetables)       2\n47  0.311677                    (vegetables, lunch meat)       2\n48  0.331870                       (poultry, vegetables)       2\n49  0.305531                          (vegetables, soda)       2\n50  0.315189                       (waffles, vegetables)       2\n51  0.319579                        (yogurt, vegetables)       2",
      "text/html": "<div>\n<style scoped>\n    .dataframe tbody tr th:only-of-type {\n        vertical-align: middle;\n    }\n\n    .dataframe tbody tr th {\n        vertical-align: top;\n    }\n\n    .dataframe thead th {\n        text-align: right;\n    }\n</style>\n<table border=\"1\" class=\"dataframe\">\n  <thead>\n    <tr style=\"text-align: right;\">\n      <th></th>\n      <th>support</th>\n      <th>itemsets</th>\n      <th>length</th>\n    </tr>\n  </thead>\n  <tbody>\n    <tr>\n      <th>38</th>\n      <td>0.310799</td>\n      <td>(aluminum foil, vegetables)</td>\n      <td>2</td>\n    </tr>\n    <tr>\n      <th>39</th>\n      <td>0.300263</td>\n      <td>(bagels, vegetables)</td>\n      <td>2</td>\n    </tr>\n    <tr>\n      <th>40</th>\n      <td>0.310799</td>\n      <td>(vegetables, cereals)</td>\n      <td>2</td>\n    </tr>\n    <tr>\n      <th>41</th>\n      <td>0.309043</td>\n      <td>(cheeses, vegetables)</td>\n      <td>2</td>\n    </tr>\n    <tr>\n      <th>42</th>\n      <td>0.308165</td>\n      <td>(dinner rolls, vegetables)</td>\n      <td>2</td>\n    </tr>\n    <tr>\n      <th>43</th>\n      <td>0.306409</td>\n      <td>(dishwashing liquid/detergent, vegetables)</td>\n      <td>2</td>\n    </tr>\n    <tr>\n      <th>44</th>\n      <td>0.326602</td>\n      <td>(eggs, vegetables)</td>\n      <td>2</td>\n    </tr>\n    <tr>\n      <th>45</th>\n      <td>0.302897</td>\n      <td>(ice cream, vegetables)</td>\n      <td>2</td>\n    </tr>\n    <tr>\n      <th>46</th>\n      <td>0.309043</td>\n      <td>(laundry detergent, vegetables)</td>\n      <td>2</td>\n    </tr>\n    <tr>\n      <th>47</th>\n      <td>0.311677</td>\n      <td>(vegetables, lunch meat)</td>\n      <td>2</td>\n    </tr>\n    <tr>\n      <th>48</th>\n      <td>0.331870</td>\n      <td>(poultry, vegetables)</td>\n      <td>2</td>\n    </tr>\n    <tr>\n      <th>49</th>\n      <td>0.305531</td>\n      <td>(vegetables, soda)</td>\n      <td>2</td>\n    </tr>\n    <tr>\n      <th>50</th>\n      <td>0.315189</td>\n      <td>(waffles, vegetables)</td>\n      <td>2</td>\n    </tr>\n    <tr>\n      <th>51</th>\n      <td>0.319579</td>\n      <td>(yogurt, vegetables)</td>\n      <td>2</td>\n    </tr>\n  </tbody>\n</table>\n</div>"
     },
     "execution_count": 10,
     "metadata": {},
     "output_type": "execute_result"
    }
   ],
   "source": [
    "results = apriori(df, min_support=0.3, use_colnames=True)\n",
    "results['length'] = results['itemsets'].apply(lambda x: len(x))\n",
    "results = results[results['length'] == 2]\n",
    "results"
   ]
  },
  {
   "cell_type": "code",
   "execution_count": 11,
   "outputs": [
    {
     "name": "stdout",
     "output_type": "stream",
     "text": [
      "\n",
      "Count of result itemstes =  14\n"
     ]
    }
   ],
   "source": [
    "print('\\nCount of result itemstes = ',len(results))"
   ],
   "metadata": {
    "collapsed": false,
    "pycharm": {
     "name": "#%%\n"
    }
   }
  },
  {
   "cell_type": "markdown",
   "metadata": {
    "pycharm": {
     "name": "#%% md\n"
    }
   },
   "source": [
    "Посчитаем количество наборов при различных уровнях поддержки. Начальное значение\n",
    "поддержки 0.05, шаг 0.01. Построим график зависимости количества наборов от уровня\n",
    "поддержки"
   ]
  },
  {
   "cell_type": "code",
   "execution_count": 12,
   "metadata": {
    "pycharm": {
     "name": "#%%\n"
    }
   },
   "outputs": [
    {
     "data": {
      "text/plain": "<Figure size 1440x720 with 1 Axes>",
      "image/png": "[encoded data removed]"
     },
     "metadata": {},
     "output_type": "display_data"
    }
   ],
   "source": [
    "min_support_range = np.arange(0.05, 0.8, 0.01)\n",
    "\n",
    "itemsets_lengths = []\n",
    "for min_support in min_support_range:\n",
    "    results = apriori(df, min_support=min_support, use_colnames=True)\n",
    "    itemsets_lengths.append(len(results))\n",
    "\n",
    "plt.figure()\n",
    "\n",
    "plt.plot(min_support_range.tolist(), itemsets_lengths)\n",
    "\n",
    "plt.show()"
   ]
  },
  {
   "cell_type": "markdown",
   "metadata": {
    "pycharm": {
     "name": "#%% md\n"
    }
   },
   "source": [
    "Как видно из графика количество наборов значительно уменьшается с повышением границы, что\n",
    "логично."
   ]
  },
  {
   "cell_type": "markdown",
   "metadata": {
    "pycharm": {
     "name": "#%% md\n"
    }
   },
   "source": [
    "Определим значения уровня поддержки при котором перестают генерироваться наборы\n",
    "размера 1,2,3, и.т.д. Отметим полученные уровни поддержки на графике построенном\n",
    "выше."
   ]
  },
  {
   "cell_type": "code",
   "execution_count": 13,
   "metadata": {
    "pycharm": {
     "name": "#%%\n"
    }
   },
   "outputs": [
    {
     "data": {
      "text/plain": "<Figure size 1440x720 with 1 Axes>",
      "image/png": "[encoded data removed]"
     },
     "metadata": {},
     "output_type": "display_data"
    }
   ],
   "source": [
    "from math import isnan\n",
    "\n",
    "itemsets_lengths = []\n",
    "threshold_supports = []\n",
    "threshold_lengths = []\n",
    "\n",
    "last_itemset_len = len(df.columns)\n",
    "\n",
    "for min_support in min_support_range:\n",
    "    results = apriori(df, min_support=min_support, use_colnames=True)\n",
    "    itemsets_lengths.append(len(results))\n",
    "\n",
    "    results['length'] = results['itemsets'].apply(lambda x: len(x))\n",
    "    current_itemset_max_len = results['length'].max()\n",
    "\n",
    "    if isnan(current_itemset_max_len):\n",
    "        current_itemset_max_len = 0\n",
    "\n",
    "    if current_itemset_max_len < last_itemset_len:\n",
    "        last_itemset_len = current_itemset_max_len\n",
    "        threshold_supports.append(min_support)\n",
    "        threshold_lengths.append(len(results))\n",
    "\n",
    "plt.figure()\n",
    "\n",
    "plt.plot(min_support_range.tolist(), itemsets_lengths)\n",
    "plt.plot(threshold_supports, threshold_lengths, 'ro')\n",
    "\n",
    "plt.show()"
   ]
  },
  {
   "cell_type": "markdown",
   "metadata": {
    "pycharm": {
     "name": "#%% md\n"
    }
   },
   "source": [
    "Построим датасет только из тех элементов, которые попадают в наборы размером 1 при\n",
    "уровне поддержки 0.38"
   ]
  },
  {
   "cell_type": "code",
   "execution_count": 14,
   "metadata": {
    "pycharm": {
     "name": "#%%\n"
    }
   },
   "outputs": [],
   "source": [
    "results = apriori(df, min_support=0.38, use_colnames=True, max_len=1)\n",
    "new_items = [ list(elem)[0] for elem in results['itemsets']]\n",
    "new_dataset = [[elem for elem in all_data[all_data[1] == id][2] if elem in\n",
    "new_items] for id in unique_id]"
   ]
  },
  {
   "cell_type": "markdown",
   "metadata": {
    "pycharm": {
     "name": "#%% md\n"
    }
   },
   "source": [
    "Приведём полученный датасет к формату, который можно обработать"
   ]
  },
  {
   "cell_type": "code",
   "execution_count": 15,
   "metadata": {
    "pycharm": {
     "name": "#%%\n"
    }
   },
   "outputs": [
    {
     "data": {
      "text/plain": "      aluminum foil  bagels  cereals  cheeses  dinner rolls  \\\n0              True   False    False    False          True   \n1              True   False     True     True         False   \n2             False    True     True     True          True   \n3             False   False     True    False         False   \n4             False   False    False    False          True   \n...             ...     ...      ...      ...           ...   \n1134          False   False     True     True          True   \n1135          False   False     True     True          True   \n1136          False    True    False    False          True   \n1137          False   False    False     True         False   \n1138          False   False    False    False         False   \n\n      dishwashing liquid/detergent   eggs  ice cream  lunch meat   milk  \\\n0                            False  False       True        True  False   \n1                             True  False      False       False   True   \n2                            False   True       True        True   True   \n3                            False  False      False        True  False   \n4                            False   True      False       False   True   \n...                            ...    ...        ...         ...    ...   \n1134                          True  False       True       False  False   \n1135                          True   True      False        True   True   \n1136                          True   True      False        True  False   \n1137                         False  False      False       False   True   \n1138                         False  False      False       False  False   \n\n      poultry   soda  vegetables  waffles  yogurt  \n0       False   True        True    False    True  \n1       False  False        True     True    True  \n2        True   True        True    False   False  \n3       False   True       False    False   False  \n4        True   True        True     True    True  \n...       ...    ...         ...      ...     ...  \n1134     True  False       False    False   False  \n1135     True  False        True    False   False  \n1136     True  False        True    False    True  \n1137     True   True        True     True    True  \n1138    False   True        True    False   False  \n\n[1139 rows x 15 columns]",
      "text/html": "<div>\n<style scoped>\n    .dataframe tbody tr th:only-of-type {\n        vertical-align: middle;\n    }\n\n    .dataframe tbody tr th {\n        vertical-align: top;\n    }\n\n    .dataframe thead th {\n        text-align: right;\n    }\n</style>\n<table border=\"1\" class=\"dataframe\">\n  <thead>\n    <tr style=\"text-align: right;\">\n      <th></th>\n      <th>aluminum foil</th>\n      <th>bagels</th>\n      <th>cereals</th>\n      <th>cheeses</th>\n      <th>dinner rolls</th>\n      <th>dishwashing liquid/detergent</th>\n      <th>eggs</th>\n      <th>ice cream</th>\n      <th>lunch meat</th>\n      <th>milk</th>\n      <th>poultry</th>\n      <th>soda</th>\n      <th>vegetables</th>\n      <th>waffles</th>\n      <th>yogurt</th>\n    </tr>\n  </thead>\n  <tbody>\n    <tr>\n      <th>0</th>\n      <td>True</td>\n      <td>False</td>\n      <td>False</td>\n      <td>False</td>\n      <td>True</td>\n      <td>False</td>\n      <td>False</td>\n      <td>True</td>\n      <td>True</td>\n      <td>False</td>\n      <td>False</td>\n      <td>True</td>\n      <td>True</td>\n      <td>False</td>\n      <td>True</td>\n    </tr>\n    <tr>\n      <th>1</th>\n      <td>True</td>\n      <td>False</td>\n      <td>True</td>\n      <td>True</td>\n      <td>False</td>\n      <td>True</td>\n      <td>False</td>\n      <td>False</td>\n      <td>False</td>\n      <td>True</td>\n      <td>False</td>\n      <td>False</td>\n      <td>True</td>\n      <td>True</td>\n      <td>True</td>\n    </tr>\n    <tr>\n      <th>2</th>\n      <td>False</td>\n      <td>True</td>\n      <td>True</td>\n      <td>True</td>\n      <td>True</td>\n      <td>False</td>\n      <td>True</td>\n      <td>True</td>\n      <td>True</td>\n      <td>True</td>\n      <td>True</td>\n      <td>True</td>\n      <td>True</td>\n      <td>False</td>\n      <td>False</td>\n    </tr>\n    <tr>\n      <th>3</th>\n      <td>False</td>\n      <td>False</td>\n      <td>True</td>\n      <td>False</td>\n      <td>False</td>\n      <td>False</td>\n      <td>False</td>\n      <td>False</td>\n      <td>True</td>\n      <td>False</td>\n      <td>False</td>\n      <td>True</td>\n      <td>False</td>\n      <td>False</td>\n      <td>False</td>\n    </tr>\n    <tr>\n      <th>4</th>\n      <td>False</td>\n      <td>False</td>\n      <td>False</td>\n      <td>False</td>\n      <td>True</td>\n      <td>False</td>\n      <td>True</td>\n      <td>False</td>\n      <td>False</td>\n      <td>True</td>\n      <td>True</td>\n      <td>True</td>\n      <td>True</td>\n      <td>True</td>\n      <td>True</td>\n    </tr>\n    <tr>\n      <th>...</th>\n      <td>...</td>\n      <td>...</td>\n      <td>...</td>\n      <td>...</td>\n      <td>...</td>\n      <td>...</td>\n      <td>...</td>\n      <td>...</td>\n      <td>...</td>\n      <td>...</td>\n      <td>...</td>\n      <td>...</td>\n      <td>...</td>\n      <td>...</td>\n      <td>...</td>\n    </tr>\n    <tr>\n      <th>1134</th>\n      <td>False</td>\n      <td>False</td>\n      <td>True</td>\n      <td>True</td>\n      <td>True</td>\n      <td>True</td>\n      <td>False</td>\n      <td>True</td>\n      <td>False</td>\n      <td>False</td>\n      <td>True</td>\n      <td>False</td>\n      <td>False</td>\n      <td>False</td>\n      <td>False</td>\n    </tr>\n    <tr>\n      <th>1135</th>\n      <td>False</td>\n      <td>False</td>\n      <td>True</td>\n      <td>True</td>\n      <td>True</td>\n      <td>True</td>\n      <td>True</td>\n      <td>False</td>\n      <td>True</td>\n      <td>True</td>\n      <td>True</td>\n      <td>False</td>\n      <td>True</td>\n      <td>False</td>\n      <td>False</td>\n    </tr>\n    <tr>\n      <th>1136</th>\n      <td>False</td>\n      <td>True</td>\n      <td>False</td>\n      <td>False</td>\n      <td>True</td>\n      <td>True</td>\n      <td>True</td>\n      <td>False</td>\n      <td>True</td>\n      <td>False</td>\n      <td>True</td>\n      <td>False</td>\n      <td>True</td>\n      <td>False</td>\n      <td>True</td>\n    </tr>\n    <tr>\n      <th>1137</th>\n      <td>False</td>\n      <td>False</td>\n      <td>False</td>\n      <td>True</td>\n      <td>False</td>\n      <td>False</td>\n      <td>False</td>\n      <td>False</td>\n      <td>False</td>\n      <td>True</td>\n      <td>True</td>\n      <td>True</td>\n      <td>True</td>\n      <td>True</td>\n      <td>True</td>\n    </tr>\n    <tr>\n      <th>1138</th>\n      <td>False</td>\n      <td>False</td>\n      <td>False</td>\n      <td>False</td>\n      <td>False</td>\n      <td>False</td>\n      <td>False</td>\n      <td>False</td>\n      <td>False</td>\n      <td>False</td>\n      <td>False</td>\n      <td>True</td>\n      <td>True</td>\n      <td>False</td>\n      <td>False</td>\n    </tr>\n  </tbody>\n</table>\n<p>1139 rows × 15 columns</p>\n</div>"
     },
     "execution_count": 15,
     "metadata": {},
     "output_type": "execute_result"
    }
   ],
   "source": [
    "te = TransactionEncoder()\n",
    "te_ary = te.fit(new_dataset).transform(new_dataset)\n",
    "df = pd.DataFrame(te_ary, columns=te.columns_)\n",
    "\n",
    "df"
   ]
  },
  {
   "cell_type": "markdown",
   "metadata": {
    "pycharm": {
     "name": "#%% md\n"
    }
   },
   "source": [
    "Проведём ассоциативный анализ при уровне поддержки 0.3 для нового датасета."
   ]
  },
  {
   "cell_type": "code",
   "execution_count": 16,
   "metadata": {
    "pycharm": {
     "name": "#%%\n"
    }
   },
   "outputs": [
    {
     "data": {
      "text/plain": "     support                                    itemsets\n0   0.384548                             (aluminum foil)\n1   0.385426                                    (bagels)\n2   0.395961                                   (cereals)\n3   0.390694                                   (cheeses)\n4   0.388938                              (dinner rolls)\n5   0.388060              (dishwashing liquid/detergent)\n6   0.389816                                      (eggs)\n7   0.398595                                 (ice cream)\n8   0.395083                                (lunch meat)\n9   0.380158                                      (milk)\n10  0.421422                                   (poultry)\n11  0.390694                                      (soda)\n12  0.739245                                (vegetables)\n13  0.394205                                   (waffles)\n14  0.384548                                    (yogurt)\n15  0.310799                 (aluminum foil, vegetables)\n16  0.300263                        (bagels, vegetables)\n17  0.310799                       (vegetables, cereals)\n18  0.309043                       (cheeses, vegetables)\n19  0.308165                  (dinner rolls, vegetables)\n20  0.306409  (dishwashing liquid/detergent, vegetables)\n21  0.326602                          (eggs, vegetables)\n22  0.302897                     (ice cream, vegetables)\n23  0.311677                    (vegetables, lunch meat)\n24  0.331870                       (poultry, vegetables)\n25  0.305531                          (vegetables, soda)\n26  0.315189                       (waffles, vegetables)\n27  0.319579                        (yogurt, vegetables)",
      "text/html": "<div>\n<style scoped>\n    .dataframe tbody tr th:only-of-type {\n        vertical-align: middle;\n    }\n\n    .dataframe tbody tr th {\n        vertical-align: top;\n    }\n\n    .dataframe thead th {\n        text-align: right;\n    }\n</style>\n<table border=\"1\" class=\"dataframe\">\n  <thead>\n    <tr style=\"text-align: right;\">\n      <th></th>\n      <th>support</th>\n      <th>itemsets</th>\n    </tr>\n  </thead>\n  <tbody>\n    <tr>\n      <th>0</th>\n      <td>0.384548</td>\n      <td>(aluminum foil)</td>\n    </tr>\n    <tr>\n      <th>1</th>\n      <td>0.385426</td>\n      <td>(bagels)</td>\n    </tr>\n    <tr>\n      <th>2</th>\n      <td>0.395961</td>\n      <td>(cereals)</td>\n    </tr>\n    <tr>\n      <th>3</th>\n      <td>0.390694</td>\n      <td>(cheeses)</td>\n    </tr>\n    <tr>\n      <th>4</th>\n      <td>0.388938</td>\n      <td>(dinner rolls)</td>\n    </tr>\n    <tr>\n      <th>5</th>\n      <td>0.388060</td>\n      <td>(dishwashing liquid/detergent)</td>\n    </tr>\n    <tr>\n      <th>6</th>\n      <td>0.389816</td>\n      <td>(eggs)</td>\n    </tr>\n    <tr>\n      <th>7</th>\n      <td>0.398595</td>\n      <td>(ice cream)</td>\n    </tr>\n    <tr>\n      <th>8</th>\n      <td>0.395083</td>\n      <td>(lunch meat)</td>\n    </tr>\n    <tr>\n      <th>9</th>\n      <td>0.380158</td>\n      <td>(milk)</td>\n    </tr>\n    <tr>\n      <th>10</th>\n      <td>0.421422</td>\n      <td>(poultry)</td>\n    </tr>\n    <tr>\n      <th>11</th>\n      <td>0.390694</td>\n      <td>(soda)</td>\n    </tr>\n    <tr>\n      <th>12</th>\n      <td>0.739245</td>\n      <td>(vegetables)</td>\n    </tr>\n    <tr>\n      <th>13</th>\n      <td>0.394205</td>\n      <td>(waffles)</td>\n    </tr>\n    <tr>\n      <th>14</th>\n      <td>0.384548</td>\n      <td>(yogurt)</td>\n    </tr>\n    <tr>\n      <th>15</th>\n      <td>0.310799</td>\n      <td>(aluminum foil, vegetables)</td>\n    </tr>\n    <tr>\n      <th>16</th>\n      <td>0.300263</td>\n      <td>(bagels, vegetables)</td>\n    </tr>\n    <tr>\n      <th>17</th>\n      <td>0.310799</td>\n      <td>(vegetables, cereals)</td>\n    </tr>\n    <tr>\n      <th>18</th>\n      <td>0.309043</td>\n      <td>(cheeses, vegetables)</td>\n    </tr>\n    <tr>\n      <th>19</th>\n      <td>0.308165</td>\n      <td>(dinner rolls, vegetables)</td>\n    </tr>\n    <tr>\n      <th>20</th>\n      <td>0.306409</td>\n      <td>(dishwashing liquid/detergent, vegetables)</td>\n    </tr>\n    <tr>\n      <th>21</th>\n      <td>0.326602</td>\n      <td>(eggs, vegetables)</td>\n    </tr>\n    <tr>\n      <th>22</th>\n      <td>0.302897</td>\n      <td>(ice cream, vegetables)</td>\n    </tr>\n    <tr>\n      <th>23</th>\n      <td>0.311677</td>\n      <td>(vegetables, lunch meat)</td>\n    </tr>\n    <tr>\n      <th>24</th>\n      <td>0.331870</td>\n      <td>(poultry, vegetables)</td>\n    </tr>\n    <tr>\n      <th>25</th>\n      <td>0.305531</td>\n      <td>(vegetables, soda)</td>\n    </tr>\n    <tr>\n      <th>26</th>\n      <td>0.315189</td>\n      <td>(waffles, vegetables)</td>\n    </tr>\n    <tr>\n      <th>27</th>\n      <td>0.319579</td>\n      <td>(yogurt, vegetables)</td>\n    </tr>\n  </tbody>\n</table>\n</div>"
     },
     "execution_count": 16,
     "metadata": {},
     "output_type": "execute_result"
    }
   ],
   "source": [
    "results = apriori(df, min_support=0.3, use_colnames=True)\n",
    "results"
   ]
  },
  {
   "cell_type": "markdown",
   "metadata": {},
   "source": [
    "Как видно в подборке присутствуют лишь 28 элементов, вместо 52 ранее, потому\n",
    "что из датасета были исключены элементы с частотой менее 0.38 и размером\n",
    "набора 1. Те элементы, что были получены присутствуют также в старой подборке."
   ]
  },
  {
   "cell_type": "markdown",
   "metadata": {
    "pycharm": {
     "name": "#%% md\n"
    }
   },
   "source": [
    "Проведём ассоциативный анализ при уровне поддержки 0.15 для нового датасета."
   ]
  },
  {
   "cell_type": "code",
   "execution_count": 17,
   "metadata": {
    "pycharm": {
     "name": "#%%\n"
    }
   },
   "outputs": [
    {
     "data": {
      "text/plain": "      support                           itemsets\n0    0.384548                    (aluminum foil)\n1    0.385426                           (bagels)\n2    0.395961                          (cereals)\n3    0.390694                          (cheeses)\n4    0.388938                     (dinner rolls)\n..        ...                                ...\n127  0.158033           (eggs, vegetables, soda)\n128  0.157155         (eggs, yogurt, vegetables)\n129  0.158033  (poultry, vegetables, lunch meat)\n130  0.157155  (waffles, vegetables, lunch meat)\n131  0.152766      (poultry, yogurt, vegetables)\n\n[132 rows x 2 columns]",
      "text/html": "<div>\n<style scoped>\n    .dataframe tbody tr th:only-of-type {\n        vertical-align: middle;\n    }\n\n    .dataframe tbody tr th {\n        vertical-align: top;\n    }\n\n    .dataframe thead th {\n        text-align: right;\n    }\n</style>\n<table border=\"1\" class=\"dataframe\">\n  <thead>\n    <tr style=\"text-align: right;\">\n      <th></th>\n      <th>support</th>\n      <th>itemsets</th>\n    </tr>\n  </thead>\n  <tbody>\n    <tr>\n      <th>0</th>\n      <td>0.384548</td>\n      <td>(aluminum foil)</td>\n    </tr>\n    <tr>\n      <th>1</th>\n      <td>0.385426</td>\n      <td>(bagels)</td>\n    </tr>\n    <tr>\n      <th>2</th>\n      <td>0.395961</td>\n      <td>(cereals)</td>\n    </tr>\n    <tr>\n      <th>3</th>\n      <td>0.390694</td>\n      <td>(cheeses)</td>\n    </tr>\n    <tr>\n      <th>4</th>\n      <td>0.388938</td>\n      <td>(dinner rolls)</td>\n    </tr>\n    <tr>\n      <th>...</th>\n      <td>...</td>\n      <td>...</td>\n    </tr>\n    <tr>\n      <th>127</th>\n      <td>0.158033</td>\n      <td>(eggs, vegetables, soda)</td>\n    </tr>\n    <tr>\n      <th>128</th>\n      <td>0.157155</td>\n      <td>(eggs, yogurt, vegetables)</td>\n    </tr>\n    <tr>\n      <th>129</th>\n      <td>0.158033</td>\n      <td>(poultry, vegetables, lunch meat)</td>\n    </tr>\n    <tr>\n      <th>130</th>\n      <td>0.157155</td>\n      <td>(waffles, vegetables, lunch meat)</td>\n    </tr>\n    <tr>\n      <th>131</th>\n      <td>0.152766</td>\n      <td>(poultry, yogurt, vegetables)</td>\n    </tr>\n  </tbody>\n</table>\n<p>132 rows × 2 columns</p>\n</div>"
     },
     "execution_count": 17,
     "metadata": {},
     "output_type": "execute_result"
    }
   ],
   "source": [
    "results = apriori(df, min_support=0.15, use_colnames=True)\n",
    "results"
   ]
  },
  {
   "cell_type": "markdown",
   "metadata": {
    "pycharm": {
     "name": "#%% md\n"
    }
   },
   "source": [
    "Выведем все наборы размер которых больше 1 и в котором есть 'yogurt' или 'waffles'"
   ]
  },
  {
   "cell_type": "code",
   "execution_count": 18,
   "metadata": {
    "pycharm": {
     "name": "#%%\n"
    }
   },
   "outputs": [
    {
     "data": {
      "text/plain": "      support                                 itemsets  length\n27   0.169447                 (aluminum foil, waffles)       2\n28   0.177349                  (aluminum foil, yogurt)       2\n40   0.159789                        (bagels, waffles)       2\n41   0.162423                         (bagels, yogurt)       2\n52   0.160667                       (waffles, cereals)       2\n53   0.172081                        (yogurt, cereals)       2\n63   0.172959                       (waffles, cheeses)       2\n64   0.172081                        (yogurt, cheeses)       2\n73   0.169447                  (dinner rolls, waffles)       2\n74   0.166813                   (dinner rolls, yogurt)       2\n82   0.175593  (waffles, dishwashing liquid/detergent)       2\n83   0.158033   (dishwashing liquid/detergent, yogurt)       2\n90   0.169447                          (waffles, eggs)       2\n91   0.174715                           (yogurt, eggs)       2\n97   0.172959                     (ice cream, waffles)       2\n98   0.156277                      (ice cream, yogurt)       2\n103  0.184372                    (waffles, lunch meat)       2\n104  0.161545                     (yogurt, lunch meat)       2\n108  0.167691                           (yogurt, milk)       2\n111  0.166813                       (waffles, poultry)       2\n112  0.180860                        (poultry, yogurt)       2\n114  0.177349                          (waffles, soda)       2\n115  0.167691                           (yogurt, soda)       2\n116  0.315189                    (waffles, vegetables)       2\n117  0.319579                     (yogurt, vegetables)       2\n118  0.173837                        (waffles, yogurt)       2\n119  0.152766      (aluminum foil, yogurt, vegetables)       3\n128  0.157155               (eggs, yogurt, vegetables)       3\n130  0.157155        (waffles, vegetables, lunch meat)       3\n131  0.152766            (poultry, yogurt, vegetables)       3",
      "text/html": "<div>\n<style scoped>\n    .dataframe tbody tr th:only-of-type {\n        vertical-align: middle;\n    }\n\n    .dataframe tbody tr th {\n        vertical-align: top;\n    }\n\n    .dataframe thead th {\n        text-align: right;\n    }\n</style>\n<table border=\"1\" class=\"dataframe\">\n  <thead>\n    <tr style=\"text-align: right;\">\n      <th></th>\n      <th>support</th>\n      <th>itemsets</th>\n      <th>length</th>\n    </tr>\n  </thead>\n  <tbody>\n    <tr>\n      <th>27</th>\n      <td>0.169447</td>\n      <td>(aluminum foil, waffles)</td>\n      <td>2</td>\n    </tr>\n    <tr>\n      <th>28</th>\n      <td>0.177349</td>\n      <td>(aluminum foil, yogurt)</td>\n      <td>2</td>\n    </tr>\n    <tr>\n      <th>40</th>\n      <td>0.159789</td>\n      <td>(bagels, waffles)</td>\n      <td>2</td>\n    </tr>\n    <tr>\n      <th>41</th>\n      <td>0.162423</td>\n      <td>(bagels, yogurt)</td>\n      <td>2</td>\n    </tr>\n    <tr>\n      <th>52</th>\n      <td>0.160667</td>\n      <td>(waffles, cereals)</td>\n      <td>2</td>\n    </tr>\n    <tr>\n      <th>53</th>\n      <td>0.172081</td>\n      <td>(yogurt, cereals)</td>\n      <td>2</td>\n    </tr>\n    <tr>\n      <th>63</th>\n      <td>0.172959</td>\n      <td>(waffles, cheeses)</td>\n      <td>2</td>\n    </tr>\n    <tr>\n      <th>64</th>\n      <td>0.172081</td>\n      <td>(yogurt, cheeses)</td>\n      <td>2</td>\n    </tr>\n    <tr>\n      <th>73</th>\n      <td>0.169447</td>\n      <td>(dinner rolls, waffles)</td>\n      <td>2</td>\n    </tr>\n    <tr>\n      <th>74</th>\n      <td>0.166813</td>\n      <td>(dinner rolls, yogurt)</td>\n      <td>2</td>\n    </tr>\n    <tr>\n      <th>82</th>\n      <td>0.175593</td>\n      <td>(waffles, dishwashing liquid/detergent)</td>\n      <td>2</td>\n    </tr>\n    <tr>\n      <th>83</th>\n      <td>0.158033</td>\n      <td>(dishwashing liquid/detergent, yogurt)</td>\n      <td>2</td>\n    </tr>\n    <tr>\n      <th>90</th>\n      <td>0.169447</td>\n      <td>(waffles, eggs)</td>\n      <td>2</td>\n    </tr>\n    <tr>\n      <th>91</th>\n      <td>0.174715</td>\n      <td>(yogurt, eggs)</td>\n      <td>2</td>\n    </tr>\n    <tr>\n      <th>97</th>\n      <td>0.172959</td>\n      <td>(ice cream, waffles)</td>\n      <td>2</td>\n    </tr>\n    <tr>\n      <th>98</th>\n      <td>0.156277</td>\n      <td>(ice cream, yogurt)</td>\n      <td>2</td>\n    </tr>\n    <tr>\n      <th>103</th>\n      <td>0.184372</td>\n      <td>(waffles, lunch meat)</td>\n      <td>2</td>\n    </tr>\n    <tr>\n      <th>104</th>\n      <td>0.161545</td>\n      <td>(yogurt, lunch meat)</td>\n      <td>2</td>\n    </tr>\n    <tr>\n      <th>108</th>\n      <td>0.167691</td>\n      <td>(yogurt, milk)</td>\n      <td>2</td>\n    </tr>\n    <tr>\n      <th>111</th>\n      <td>0.166813</td>\n      <td>(waffles, poultry)</td>\n      <td>2</td>\n    </tr>\n    <tr>\n      <th>112</th>\n      <td>0.180860</td>\n      <td>(poultry, yogurt)</td>\n      <td>2</td>\n    </tr>\n    <tr>\n      <th>114</th>\n      <td>0.177349</td>\n      <td>(waffles, soda)</td>\n      <td>2</td>\n    </tr>\n    <tr>\n      <th>115</th>\n      <td>0.167691</td>\n      <td>(yogurt, soda)</td>\n      <td>2</td>\n    </tr>\n    <tr>\n      <th>116</th>\n      <td>0.315189</td>\n      <td>(waffles, vegetables)</td>\n      <td>2</td>\n    </tr>\n    <tr>\n      <th>117</th>\n      <td>0.319579</td>\n      <td>(yogurt, vegetables)</td>\n      <td>2</td>\n    </tr>\n    <tr>\n      <th>118</th>\n      <td>0.173837</td>\n      <td>(waffles, yogurt)</td>\n      <td>2</td>\n    </tr>\n    <tr>\n      <th>119</th>\n      <td>0.152766</td>\n      <td>(aluminum foil, yogurt, vegetables)</td>\n      <td>3</td>\n    </tr>\n    <tr>\n      <th>128</th>\n      <td>0.157155</td>\n      <td>(eggs, yogurt, vegetables)</td>\n      <td>3</td>\n    </tr>\n    <tr>\n      <th>130</th>\n      <td>0.157155</td>\n      <td>(waffles, vegetables, lunch meat)</td>\n      <td>3</td>\n    </tr>\n    <tr>\n      <th>131</th>\n      <td>0.152766</td>\n      <td>(poultry, yogurt, vegetables)</td>\n      <td>3</td>\n    </tr>\n  </tbody>\n</table>\n</div>"
     },
     "execution_count": 18,
     "metadata": {},
     "output_type": "execute_result"
    }
   ],
   "source": [
    "results['length'] = results['itemsets'].apply(lambda x: len(x))\n",
    "results = results[results['length'] > 1]\n",
    "results = results[results['itemsets'].apply(lambda x: ('yogurt' in x) or ('waffles' in x))]\n",
    "results"
   ]
  },
  {
   "cell_type": "markdown",
   "metadata": {
    "pycharm": {
     "name": "#%% md\n"
    }
   },
   "source": [
    "Построим датасет, из тех элементов, которые не попали в датасет в п. 6 и приведём его к\n",
    "удобному для анализа виду."
   ]
  },
  {
   "cell_type": "code",
   "execution_count": 19,
   "metadata": {
    "pycharm": {
     "name": "#%%\n"
    }
   },
   "outputs": [
    {
     "data": {
      "text/plain": "      all- purpose   beef  butter  coffee/tea  flour  fruits  hand soap  \\\n0             True   True    True       False   True   False      False   \n1            False  False   False       False  False   False       True   \n2            False  False   False       False  False   False       True   \n3             True  False   False       False  False   False      False   \n4             True  False   False       False   True   False       True   \n...            ...    ...     ...         ...    ...     ...        ...   \n1134          True   True   False        True  False    True       True   \n1135         False  False   False        True  False   False       True   \n1136         False   True   False       False  False   False       True   \n1137          True   True   False       False  False   False      False   \n1138         False  False   False       False  False   False      False   \n\n      individual meals  juice  ketchup  ...  pasta   pork  sandwich bags  \\\n0                False  False    False  ...  False   True           True   \n1                 True  False    False  ...  False  False           True   \n2                False  False     True  ...  False   True          False   \n3                False   True    False  ...  False  False          False   \n4                 True  False    False  ...   True   True          False   \n...                ...    ...      ...  ...    ...    ...            ...   \n1134             False   True    False  ...  False   True           True   \n1135              True  False    False  ...   True  False          False   \n1136              True   True    False  ...  False   True          False   \n1137             False  False     True  ...  False  False           True   \n1138             False  False    False  ...  False  False          False   \n\n      sandwich loaves  shampoo   soap  spaghetti sauce  sugar  toilet paper  \\\n0               False     True   True            False  False         False   \n1               False     True  False            False  False          True   \n2                True     True   True             True  False          True   \n3               False    False  False            False  False          True   \n4                True    False  False             True  False          True   \n...               ...      ...    ...              ...    ...           ...   \n1134            False     True   True            False   True         False   \n1135            False    False   True             True  False         False   \n1136            False     True   True            False   True         False   \n1137            False    False   True             True   True          True   \n1138            False     True  False            False  False         False   \n\n      tortillas  \n0         False  \n1          True  \n2         False  \n3         False  \n4          True  \n...         ...  \n1134      False  \n1135      False  \n1136       True  \n1137      False  \n1138      False  \n\n[1139 rows x 23 columns]",
      "text/html": "<div>\n<style scoped>\n    .dataframe tbody tr th:only-of-type {\n        vertical-align: middle;\n    }\n\n    .dataframe tbody tr th {\n        vertical-align: top;\n    }\n\n    .dataframe thead th {\n        text-align: right;\n    }\n</style>\n<table border=\"1\" class=\"dataframe\">\n  <thead>\n    <tr style=\"text-align: right;\">\n      <th></th>\n      <th>all- purpose</th>\n      <th>beef</th>\n      <th>butter</th>\n      <th>coffee/tea</th>\n      <th>flour</th>\n      <th>fruits</th>\n      <th>hand soap</th>\n      <th>individual meals</th>\n      <th>juice</th>\n      <th>ketchup</th>\n      <th>...</th>\n      <th>pasta</th>\n      <th>pork</th>\n      <th>sandwich bags</th>\n      <th>sandwich loaves</th>\n      <th>shampoo</th>\n      <th>soap</th>\n      <th>spaghetti sauce</th>\n      <th>sugar</th>\n      <th>toilet paper</th>\n      <th>tortillas</th>\n    </tr>\n  </thead>\n  <tbody>\n    <tr>\n      <th>0</th>\n      <td>True</td>\n      <td>True</td>\n      <td>True</td>\n      <td>False</td>\n      <td>True</td>\n      <td>False</td>\n      <td>False</td>\n      <td>False</td>\n      <td>False</td>\n      <td>False</td>\n      <td>...</td>\n      <td>False</td>\n      <td>True</td>\n      <td>True</td>\n      <td>False</td>\n      <td>True</td>\n      <td>True</td>\n      <td>False</td>\n      <td>False</td>\n      <td>False</td>\n      <td>False</td>\n    </tr>\n    <tr>\n      <th>1</th>\n      <td>False</td>\n      <td>False</td>\n      <td>False</td>\n      <td>False</td>\n      <td>False</td>\n      <td>False</td>\n      <td>True</td>\n      <td>True</td>\n      <td>False</td>\n      <td>False</td>\n      <td>...</td>\n      <td>False</td>\n      <td>False</td>\n      <td>True</td>\n      <td>False</td>\n      <td>True</td>\n      <td>False</td>\n      <td>False</td>\n      <td>False</td>\n      <td>True</td>\n      <td>True</td>\n    </tr>\n    <tr>\n      <th>2</th>\n      <td>False</td>\n      <td>False</td>\n      <td>False</td>\n      <td>False</td>\n      <td>False</td>\n      <td>False</td>\n      <td>True</td>\n      <td>False</td>\n      <td>False</td>\n      <td>True</td>\n      <td>...</td>\n      <td>False</td>\n      <td>True</td>\n      <td>False</td>\n      <td>True</td>\n      <td>True</td>\n      <td>True</td>\n      <td>True</td>\n      <td>False</td>\n      <td>True</td>\n      <td>False</td>\n    </tr>\n    <tr>\n      <th>3</th>\n      <td>True</td>\n      <td>False</td>\n      <td>False</td>\n      <td>False</td>\n      <td>False</td>\n      <td>False</td>\n      <td>False</td>\n      <td>False</td>\n      <td>True</td>\n      <td>False</td>\n      <td>...</td>\n      <td>False</td>\n      <td>False</td>\n      <td>False</td>\n      <td>False</td>\n      <td>False</td>\n      <td>False</td>\n      <td>False</td>\n      <td>False</td>\n      <td>True</td>\n      <td>False</td>\n    </tr>\n    <tr>\n      <th>4</th>\n      <td>True</td>\n      <td>False</td>\n      <td>False</td>\n      <td>False</td>\n      <td>True</td>\n      <td>False</td>\n      <td>True</td>\n      <td>True</td>\n      <td>False</td>\n      <td>False</td>\n      <td>...</td>\n      <td>True</td>\n      <td>True</td>\n      <td>False</td>\n      <td>True</td>\n      <td>False</td>\n      <td>False</td>\n      <td>True</td>\n      <td>False</td>\n      <td>True</td>\n      <td>True</td>\n    </tr>\n    <tr>\n      <th>...</th>\n      <td>...</td>\n      <td>...</td>\n      <td>...</td>\n      <td>...</td>\n      <td>...</td>\n      <td>...</td>\n      <td>...</td>\n      <td>...</td>\n      <td>...</td>\n      <td>...</td>\n      <td>...</td>\n      <td>...</td>\n      <td>...</td>\n      <td>...</td>\n      <td>...</td>\n      <td>...</td>\n      <td>...</td>\n      <td>...</td>\n      <td>...</td>\n      <td>...</td>\n      <td>...</td>\n    </tr>\n    <tr>\n      <th>1134</th>\n      <td>True</td>\n      <td>True</td>\n      <td>False</td>\n      <td>True</td>\n      <td>False</td>\n      <td>True</td>\n      <td>True</td>\n      <td>False</td>\n      <td>True</td>\n      <td>False</td>\n      <td>...</td>\n      <td>False</td>\n      <td>True</td>\n      <td>True</td>\n      <td>False</td>\n      <td>True</td>\n      <td>True</td>\n      <td>False</td>\n      <td>True</td>\n      <td>False</td>\n      <td>False</td>\n    </tr>\n    <tr>\n      <th>1135</th>\n      <td>False</td>\n      <td>False</td>\n      <td>False</td>\n      <td>True</td>\n      <td>False</td>\n      <td>False</td>\n      <td>True</td>\n      <td>True</td>\n      <td>False</td>\n      <td>False</td>\n      <td>...</td>\n      <td>True</td>\n      <td>False</td>\n      <td>False</td>\n      <td>False</td>\n      <td>False</td>\n      <td>True</td>\n      <td>True</td>\n      <td>False</td>\n      <td>False</td>\n      <td>False</td>\n    </tr>\n    <tr>\n      <th>1136</th>\n      <td>False</td>\n      <td>True</td>\n      <td>False</td>\n      <td>False</td>\n      <td>False</td>\n      <td>False</td>\n      <td>True</td>\n      <td>True</td>\n      <td>True</td>\n      <td>False</td>\n      <td>...</td>\n      <td>False</td>\n      <td>True</td>\n      <td>False</td>\n      <td>False</td>\n      <td>True</td>\n      <td>True</td>\n      <td>False</td>\n      <td>True</td>\n      <td>False</td>\n      <td>True</td>\n    </tr>\n    <tr>\n      <th>1137</th>\n      <td>True</td>\n      <td>True</td>\n      <td>False</td>\n      <td>False</td>\n      <td>False</td>\n      <td>False</td>\n      <td>False</td>\n      <td>False</td>\n      <td>False</td>\n      <td>True</td>\n      <td>...</td>\n      <td>False</td>\n      <td>False</td>\n      <td>True</td>\n      <td>False</td>\n      <td>False</td>\n      <td>True</td>\n      <td>True</td>\n      <td>True</td>\n      <td>True</td>\n      <td>False</td>\n    </tr>\n    <tr>\n      <th>1138</th>\n      <td>False</td>\n      <td>False</td>\n      <td>False</td>\n      <td>False</td>\n      <td>False</td>\n      <td>False</td>\n      <td>False</td>\n      <td>False</td>\n      <td>False</td>\n      <td>False</td>\n      <td>...</td>\n      <td>False</td>\n      <td>False</td>\n      <td>False</td>\n      <td>False</td>\n      <td>True</td>\n      <td>False</td>\n      <td>False</td>\n      <td>False</td>\n      <td>False</td>\n      <td>False</td>\n    </tr>\n  </tbody>\n</table>\n<p>1139 rows × 23 columns</p>\n</div>"
     },
     "execution_count": 19,
     "metadata": {},
     "output_type": "execute_result"
    }
   ],
   "source": [
    "# All data dataframe\n",
    "te = TransactionEncoder()\n",
    "te_ary = te.fit(dataset).transform(dataset)\n",
    "all_df = pd.DataFrame(te_ary, columns=te.columns_)\n",
    "\n",
    "# print(all_df)\n",
    "# print(new_items) # From #6\n",
    "\n",
    "diff_df = all_df[all_df.columns.difference(new_items)]\n",
    "diff_df\n",
    "\n",
    "# print(new_items)\n",
    "# print(diff_df.columns)"
   ]
  },
  {
   "cell_type": "markdown",
   "metadata": {
    "pycharm": {
     "name": "#%% md\n"
    }
   },
   "source": [
    "Проведём анализ apriori для полученного датасета для уровней поддержки 0.3 и 0.15"
   ]
  },
  {
   "cell_type": "code",
   "execution_count": 20,
   "metadata": {
    "pycharm": {
     "name": "#%%\n"
    }
   },
   "outputs": [
    {
     "data": {
      "text/plain": "     support             itemsets\n0   0.374890       (all- purpose)\n1   0.374890               (beef)\n2   0.367867             (butter)\n3   0.379280         (coffee/tea)\n4   0.352941              (flour)\n5   0.370500             (fruits)\n6   0.345917          (hand soap)\n7   0.375768   (individual meals)\n8   0.376646              (juice)\n9   0.371378            (ketchup)\n10  0.378402  (laundry detergent)\n11  0.375768              (mixes)\n12  0.362599       (paper towels)\n13  0.371378              (pasta)\n14  0.355575               (pork)\n15  0.367867      (sandwich bags)\n16  0.349429    (sandwich loaves)\n17  0.368745            (shampoo)\n18  0.379280               (soap)\n19  0.373134    (spaghetti sauce)\n20  0.360843              (sugar)\n21  0.378402       (toilet paper)\n22  0.369622          (tortillas)",
      "text/html": "<div>\n<style scoped>\n    .dataframe tbody tr th:only-of-type {\n        vertical-align: middle;\n    }\n\n    .dataframe tbody tr th {\n        vertical-align: top;\n    }\n\n    .dataframe thead th {\n        text-align: right;\n    }\n</style>\n<table border=\"1\" class=\"dataframe\">\n  <thead>\n    <tr style=\"text-align: right;\">\n      <th></th>\n      <th>support</th>\n      <th>itemsets</th>\n    </tr>\n  </thead>\n  <tbody>\n    <tr>\n      <th>0</th>\n      <td>0.374890</td>\n      <td>(all- purpose)</td>\n    </tr>\n    <tr>\n      <th>1</th>\n      <td>0.374890</td>\n      <td>(beef)</td>\n    </tr>\n    <tr>\n      <th>2</th>\n      <td>0.367867</td>\n      <td>(butter)</td>\n    </tr>\n    <tr>\n      <th>3</th>\n      <td>0.379280</td>\n      <td>(coffee/tea)</td>\n    </tr>\n    <tr>\n      <th>4</th>\n      <td>0.352941</td>\n      <td>(flour)</td>\n    </tr>\n    <tr>\n      <th>5</th>\n      <td>0.370500</td>\n      <td>(fruits)</td>\n    </tr>\n    <tr>\n      <th>6</th>\n      <td>0.345917</td>\n      <td>(hand soap)</td>\n    </tr>\n    <tr>\n      <th>7</th>\n      <td>0.375768</td>\n      <td>(individual meals)</td>\n    </tr>\n    <tr>\n      <th>8</th>\n      <td>0.376646</td>\n      <td>(juice)</td>\n    </tr>\n    <tr>\n      <th>9</th>\n      <td>0.371378</td>\n      <td>(ketchup)</td>\n    </tr>\n    <tr>\n      <th>10</th>\n      <td>0.378402</td>\n      <td>(laundry detergent)</td>\n    </tr>\n    <tr>\n      <th>11</th>\n      <td>0.375768</td>\n      <td>(mixes)</td>\n    </tr>\n    <tr>\n      <th>12</th>\n      <td>0.362599</td>\n      <td>(paper towels)</td>\n    </tr>\n    <tr>\n      <th>13</th>\n      <td>0.371378</td>\n      <td>(pasta)</td>\n    </tr>\n    <tr>\n      <th>14</th>\n      <td>0.355575</td>\n      <td>(pork)</td>\n    </tr>\n    <tr>\n      <th>15</th>\n      <td>0.367867</td>\n      <td>(sandwich bags)</td>\n    </tr>\n    <tr>\n      <th>16</th>\n      <td>0.349429</td>\n      <td>(sandwich loaves)</td>\n    </tr>\n    <tr>\n      <th>17</th>\n      <td>0.368745</td>\n      <td>(shampoo)</td>\n    </tr>\n    <tr>\n      <th>18</th>\n      <td>0.379280</td>\n      <td>(soap)</td>\n    </tr>\n    <tr>\n      <th>19</th>\n      <td>0.373134</td>\n      <td>(spaghetti sauce)</td>\n    </tr>\n    <tr>\n      <th>20</th>\n      <td>0.360843</td>\n      <td>(sugar)</td>\n    </tr>\n    <tr>\n      <th>21</th>\n      <td>0.378402</td>\n      <td>(toilet paper)</td>\n    </tr>\n    <tr>\n      <th>22</th>\n      <td>0.369622</td>\n      <td>(tortillas)</td>\n    </tr>\n  </tbody>\n</table>\n</div>"
     },
     "execution_count": 20,
     "metadata": {},
     "output_type": "execute_result"
    }
   ],
   "source": [
    "results = apriori(diff_df, min_support=0.3, use_colnames=True)\n",
    "results"
   ]
  },
  {
   "cell_type": "code",
   "execution_count": 21,
   "metadata": {
    "pycharm": {
     "name": "#%%\n"
    }
   },
   "outputs": [
    {
     "data": {
      "text/plain": "      support                         itemsets\n0    0.374890                   (all- purpose)\n1    0.374890                           (beef)\n2    0.367867                         (butter)\n3    0.379280                     (coffee/tea)\n4    0.352941                          (flour)\n..        ...                              ...\n128  0.154522                    (soap, sugar)\n129  0.164179             (soap, toilet paper)\n130  0.151888  (toilet paper, spaghetti sauce)\n131  0.151888            (toilet paper, sugar)\n132  0.156277        (tortillas, toilet paper)\n\n[133 rows x 2 columns]",
      "text/html": "<div>\n<style scoped>\n    .dataframe tbody tr th:only-of-type {\n        vertical-align: middle;\n    }\n\n    .dataframe tbody tr th {\n        vertical-align: top;\n    }\n\n    .dataframe thead th {\n        text-align: right;\n    }\n</style>\n<table border=\"1\" class=\"dataframe\">\n  <thead>\n    <tr style=\"text-align: right;\">\n      <th></th>\n      <th>support</th>\n      <th>itemsets</th>\n    </tr>\n  </thead>\n  <tbody>\n    <tr>\n      <th>0</th>\n      <td>0.374890</td>\n      <td>(all- purpose)</td>\n    </tr>\n    <tr>\n      <th>1</th>\n      <td>0.374890</td>\n      <td>(beef)</td>\n    </tr>\n    <tr>\n      <th>2</th>\n      <td>0.367867</td>\n      <td>(butter)</td>\n    </tr>\n    <tr>\n      <th>3</th>\n      <td>0.379280</td>\n      <td>(coffee/tea)</td>\n    </tr>\n    <tr>\n      <th>4</th>\n      <td>0.352941</td>\n      <td>(flour)</td>\n    </tr>\n    <tr>\n      <th>...</th>\n      <td>...</td>\n      <td>...</td>\n    </tr>\n    <tr>\n      <th>128</th>\n      <td>0.154522</td>\n      <td>(soap, sugar)</td>\n    </tr>\n    <tr>\n      <th>129</th>\n      <td>0.164179</td>\n      <td>(soap, toilet paper)</td>\n    </tr>\n    <tr>\n      <th>130</th>\n      <td>0.151888</td>\n      <td>(toilet paper, spaghetti sauce)</td>\n    </tr>\n    <tr>\n      <th>131</th>\n      <td>0.151888</td>\n      <td>(toilet paper, sugar)</td>\n    </tr>\n    <tr>\n      <th>132</th>\n      <td>0.156277</td>\n      <td>(tortillas, toilet paper)</td>\n    </tr>\n  </tbody>\n</table>\n<p>133 rows × 2 columns</p>\n</div>"
     },
     "execution_count": 21,
     "metadata": {},
     "output_type": "execute_result"
    }
   ],
   "source": [
    "results = apriori(diff_df, min_support=0.15, use_colnames=True)\n",
    "results"
   ]
  },
  {
   "cell_type": "markdown",
   "metadata": {
    "pycharm": {
     "name": "#%% md\n"
    }
   },
   "source": [
    "Напишем правило, для вывода всех наборов, в которых хотя бы два элемента начинаются\n",
    "на 's'"
   ]
  },
  {
   "cell_type": "code",
   "execution_count": 22,
   "metadata": {
    "pycharm": {
     "name": "#%%\n"
    }
   },
   "outputs": [
    {
     "data": {
      "text/plain": "       support                                        itemsets\n675   0.137840                (sandwich loaves, sandwich bags)\n676   0.146620                        (shampoo, sandwich bags)\n677   0.158911                           (sandwich bags, soap)\n678   0.162423                           (sandwich bags, soda)\n679   0.147498                (sandwich bags, spaghetti sauce)\n680   0.131694                          (sandwich bags, sugar)\n686   0.150132                      (sandwich loaves, shampoo)\n687   0.158033                         (sandwich loaves, soap)\n688   0.141352                         (sandwich loaves, soda)\n689   0.150132              (sandwich loaves, spaghetti sauce)\n690   0.136962                        (sandwich loaves, sugar)\n696   0.151010                                 (shampoo, soap)\n697   0.150132                                 (shampoo, soda)\n698   0.139596                      (shampoo, spaghetti sauce)\n699   0.147498                                (shampoo, sugar)\n705   0.174715                                    (soap, soda)\n706   0.160667                         (soap, spaghetti sauce)\n707   0.154522                                   (soap, sugar)\n713   0.167691                         (spaghetti sauce, soda)\n714   0.162423                                   (sugar, soda)\n720   0.144864                        (sugar, spaghetti sauce)\n1351  0.115013    (sandwich loaves, sandwich bags, vegetables)\n1352  0.122915            (shampoo, sandwich bags, vegetables)\n1353  0.129939               (sandwich bags, soap, vegetables)\n1354  0.129061               (soda, sandwich bags, vegetables)\n1355  0.123793    (spaghetti sauce, sandwich bags, vegetables)\n1356  0.113257              (sandwich bags, sugar, vegetables)\n1361  0.129061          (sandwich loaves, shampoo, vegetables)\n1362  0.132572             (sandwich loaves, vegetables, soap)\n1363  0.121159             (sandwich loaves, vegetables, soda)\n1364  0.122915  (sandwich loaves, vegetables, spaghetti sauce)\n1365  0.121159            (sandwich loaves, vegetables, sugar)\n1370  0.124671                     (shampoo, vegetables, soap)\n1371  0.128183                     (shampoo, vegetables, soda)\n1372  0.117647          (shampoo, vegetables, spaghetti sauce)\n1373  0.122037                    (shampoo, vegetables, sugar)\n1378  0.141352                        (vegetables, soap, soda)\n1379  0.136962             (vegetables, soap, spaghetti sauce)\n1380  0.127305                       (soap, vegetables, sugar)\n1385  0.138718             (spaghetti sauce, vegetables, soda)\n1386  0.136084                       (vegetables, sugar, soda)\n1391  0.124671            (vegetables, sugar, spaghetti sauce)",
      "text/html": "<div>\n<style scoped>\n    .dataframe tbody tr th:only-of-type {\n        vertical-align: middle;\n    }\n\n    .dataframe tbody tr th {\n        vertical-align: top;\n    }\n\n    .dataframe thead th {\n        text-align: right;\n    }\n</style>\n<table border=\"1\" class=\"dataframe\">\n  <thead>\n    <tr style=\"text-align: right;\">\n      <th></th>\n      <th>support</th>\n      <th>itemsets</th>\n    </tr>\n  </thead>\n  <tbody>\n    <tr>\n      <th>675</th>\n      <td>0.137840</td>\n      <td>(sandwich loaves, sandwich bags)</td>\n    </tr>\n    <tr>\n      <th>676</th>\n      <td>0.146620</td>\n      <td>(shampoo, sandwich bags)</td>\n    </tr>\n    <tr>\n      <th>677</th>\n      <td>0.158911</td>\n      <td>(sandwich bags, soap)</td>\n    </tr>\n    <tr>\n      <th>678</th>\n      <td>0.162423</td>\n      <td>(sandwich bags, soda)</td>\n    </tr>\n    <tr>\n      <th>679</th>\n      <td>0.147498</td>\n      <td>(sandwich bags, spaghetti sauce)</td>\n    </tr>\n    <tr>\n      <th>680</th>\n      <td>0.131694</td>\n      <td>(sandwich bags, sugar)</td>\n    </tr>\n    <tr>\n      <th>686</th>\n      <td>0.150132</td>\n      <td>(sandwich loaves, shampoo)</td>\n    </tr>\n    <tr>\n      <th>687</th>\n      <td>0.158033</td>\n      <td>(sandwich loaves, soap)</td>\n    </tr>\n    <tr>\n      <th>688</th>\n      <td>0.141352</td>\n      <td>(sandwich loaves, soda)</td>\n    </tr>\n    <tr>\n      <th>689</th>\n      <td>0.150132</td>\n      <td>(sandwich loaves, spaghetti sauce)</td>\n    </tr>\n    <tr>\n      <th>690</th>\n      <td>0.136962</td>\n      <td>(sandwich loaves, sugar)</td>\n    </tr>\n    <tr>\n      <th>696</th>\n      <td>0.151010</td>\n      <td>(shampoo, soap)</td>\n    </tr>\n    <tr>\n      <th>697</th>\n      <td>0.150132</td>\n      <td>(shampoo, soda)</td>\n    </tr>\n    <tr>\n      <th>698</th>\n      <td>0.139596</td>\n      <td>(shampoo, spaghetti sauce)</td>\n    </tr>\n    <tr>\n      <th>699</th>\n      <td>0.147498</td>\n      <td>(shampoo, sugar)</td>\n    </tr>\n    <tr>\n      <th>705</th>\n      <td>0.174715</td>\n      <td>(soap, soda)</td>\n    </tr>\n    <tr>\n      <th>706</th>\n      <td>0.160667</td>\n      <td>(soap, spaghetti sauce)</td>\n    </tr>\n    <tr>\n      <th>707</th>\n      <td>0.154522</td>\n      <td>(soap, sugar)</td>\n    </tr>\n    <tr>\n      <th>713</th>\n      <td>0.167691</td>\n      <td>(spaghetti sauce, soda)</td>\n    </tr>\n    <tr>\n      <th>714</th>\n      <td>0.162423</td>\n      <td>(sugar, soda)</td>\n    </tr>\n    <tr>\n      <th>720</th>\n      <td>0.144864</td>\n      <td>(sugar, spaghetti sauce)</td>\n    </tr>\n    <tr>\n      <th>1351</th>\n      <td>0.115013</td>\n      <td>(sandwich loaves, sandwich bags, vegetables)</td>\n    </tr>\n    <tr>\n      <th>1352</th>\n      <td>0.122915</td>\n      <td>(shampoo, sandwich bags, vegetables)</td>\n    </tr>\n    <tr>\n      <th>1353</th>\n      <td>0.129939</td>\n      <td>(sandwich bags, soap, vegetables)</td>\n    </tr>\n    <tr>\n      <th>1354</th>\n      <td>0.129061</td>\n      <td>(soda, sandwich bags, vegetables)</td>\n    </tr>\n    <tr>\n      <th>1355</th>\n      <td>0.123793</td>\n      <td>(spaghetti sauce, sandwich bags, vegetables)</td>\n    </tr>\n    <tr>\n      <th>1356</th>\n      <td>0.113257</td>\n      <td>(sandwich bags, sugar, vegetables)</td>\n    </tr>\n    <tr>\n      <th>1361</th>\n      <td>0.129061</td>\n      <td>(sandwich loaves, shampoo, vegetables)</td>\n    </tr>\n    <tr>\n      <th>1362</th>\n      <td>0.132572</td>\n      <td>(sandwich loaves, vegetables, soap)</td>\n    </tr>\n    <tr>\n      <th>1363</th>\n      <td>0.121159</td>\n      <td>(sandwich loaves, vegetables, soda)</td>\n    </tr>\n    <tr>\n      <th>1364</th>\n      <td>0.122915</td>\n      <td>(sandwich loaves, vegetables, spaghetti sauce)</td>\n    </tr>\n    <tr>\n      <th>1365</th>\n      <td>0.121159</td>\n      <td>(sandwich loaves, vegetables, sugar)</td>\n    </tr>\n    <tr>\n      <th>1370</th>\n      <td>0.124671</td>\n      <td>(shampoo, vegetables, soap)</td>\n    </tr>\n    <tr>\n      <th>1371</th>\n      <td>0.128183</td>\n      <td>(shampoo, vegetables, soda)</td>\n    </tr>\n    <tr>\n      <th>1372</th>\n      <td>0.117647</td>\n      <td>(shampoo, vegetables, spaghetti sauce)</td>\n    </tr>\n    <tr>\n      <th>1373</th>\n      <td>0.122037</td>\n      <td>(shampoo, vegetables, sugar)</td>\n    </tr>\n    <tr>\n      <th>1378</th>\n      <td>0.141352</td>\n      <td>(vegetables, soap, soda)</td>\n    </tr>\n    <tr>\n      <th>1379</th>\n      <td>0.136962</td>\n      <td>(vegetables, soap, spaghetti sauce)</td>\n    </tr>\n    <tr>\n      <th>1380</th>\n      <td>0.127305</td>\n      <td>(soap, vegetables, sugar)</td>\n    </tr>\n    <tr>\n      <th>1385</th>\n      <td>0.138718</td>\n      <td>(spaghetti sauce, vegetables, soda)</td>\n    </tr>\n    <tr>\n      <th>1386</th>\n      <td>0.136084</td>\n      <td>(vegetables, sugar, soda)</td>\n    </tr>\n    <tr>\n      <th>1391</th>\n      <td>0.124671</td>\n      <td>(vegetables, sugar, spaghetti sauce)</td>\n    </tr>\n  </tbody>\n</table>\n</div>"
     },
     "execution_count": 22,
     "metadata": {},
     "output_type": "execute_result"
    }
   ],
   "source": [
    "# All data dataframe\n",
    "te = TransactionEncoder()\n",
    "te_ary = te.fit(dataset).transform(dataset)\n",
    "all_df = pd.DataFrame(te_ary, columns=te.columns_)\n",
    "\n",
    "results = apriori(all_df, min_support=0.1, use_colnames=True)\n",
    "# print(results)\n",
    "results = results[results['itemsets'].apply(\n",
    "    lambda x: np.fromiter(\n",
    "        map(lambda y: y.startswith('s'), x), dtype=bool\n",
    "    ).sum() >= 2\n",
    ")]\n",
    "results"
   ]
  },
  {
   "cell_type": "markdown",
   "metadata": {
    "pycharm": {
     "name": "#%% md\n"
    }
   },
   "source": [
    "Напишем правило, для вывода всех наборов, для которых уровень поддержки изменяется\n",
    "от 0.1 до 0.25"
   ]
  },
  {
   "cell_type": "code",
   "execution_count": 23,
   "metadata": {
    "pycharm": {
     "name": "#%%\n"
    }
   },
   "outputs": [
    {
     "data": {
      "text/plain": "       support                             itemsets\n38    0.157155        (all- purpose, aluminum foil)\n39    0.150132               (bagels, all- purpose)\n40    0.144864                 (beef, all- purpose)\n41    0.147498               (butter, all- purpose)\n42    0.151010              (all- purpose, cereals)\n...        ...                                  ...\n1401  0.135206  (waffles, vegetables, toilet paper)\n1402  0.130817   (yogurt, vegetables, toilet paper)\n1403  0.121159     (waffles, vegetables, tortillas)\n1404  0.130817      (yogurt, vegetables, tortillas)\n1405  0.146620        (waffles, yogurt, vegetables)\n\n[1331 rows x 2 columns]",
      "text/html": "<div>\n<style scoped>\n    .dataframe tbody tr th:only-of-type {\n        vertical-align: middle;\n    }\n\n    .dataframe tbody tr th {\n        vertical-align: top;\n    }\n\n    .dataframe thead th {\n        text-align: right;\n    }\n</style>\n<table border=\"1\" class=\"dataframe\">\n  <thead>\n    <tr style=\"text-align: right;\">\n      <th></th>\n      <th>support</th>\n      <th>itemsets</th>\n    </tr>\n  </thead>\n  <tbody>\n    <tr>\n      <th>38</th>\n      <td>0.157155</td>\n      <td>(all- purpose, aluminum foil)</td>\n    </tr>\n    <tr>\n      <th>39</th>\n      <td>0.150132</td>\n      <td>(bagels, all- purpose)</td>\n    </tr>\n    <tr>\n      <th>40</th>\n      <td>0.144864</td>\n      <td>(beef, all- purpose)</td>\n    </tr>\n    <tr>\n      <th>41</th>\n      <td>0.147498</td>\n      <td>(butter, all- purpose)</td>\n    </tr>\n    <tr>\n      <th>42</th>\n      <td>0.151010</td>\n      <td>(all- purpose, cereals)</td>\n    </tr>\n    <tr>\n      <th>...</th>\n      <td>...</td>\n      <td>...</td>\n    </tr>\n    <tr>\n      <th>1401</th>\n      <td>0.135206</td>\n      <td>(waffles, vegetables, toilet paper)</td>\n    </tr>\n    <tr>\n      <th>1402</th>\n      <td>0.130817</td>\n      <td>(yogurt, vegetables, toilet paper)</td>\n    </tr>\n    <tr>\n      <th>1403</th>\n      <td>0.121159</td>\n      <td>(waffles, vegetables, tortillas)</td>\n    </tr>\n    <tr>\n      <th>1404</th>\n      <td>0.130817</td>\n      <td>(yogurt, vegetables, tortillas)</td>\n    </tr>\n    <tr>\n      <th>1405</th>\n      <td>0.146620</td>\n      <td>(waffles, yogurt, vegetables)</td>\n    </tr>\n  </tbody>\n</table>\n<p>1331 rows × 2 columns</p>\n</div>"
     },
     "execution_count": 23,
     "metadata": {},
     "output_type": "execute_result"
    }
   ],
   "source": [
    "# All data dataframe\n",
    "te = TransactionEncoder()\n",
    "te_ary = te.fit(dataset).transform(dataset)\n",
    "all_df = pd.DataFrame(te_ary, columns=te.columns_)\n",
    "\n",
    "results = apriori(all_df, min_support=0.1, use_colnames=True)\n",
    "\n",
    "results = results[np.logical_and(results.support <= 0.25, results.support >= 0.1)]\n",
    "results"
   ]
  }
 ],
 "metadata": {
  "kernelspec": {
   "display_name": "Python 3",
   "language": "python",
   "name": "python3"
  },
  "language_info": {
   "codemirror_mode": {
    "name": "ipython",
    "version": 3
   },
   "file_extension": ".py",
   "mimetype": "text/x-python",
   "name": "python",
   "nbconvert_exporter": "python",
   "pygments_lexer": "ipython3",
   "version": "3.8.5"
  },
  "pycharm": {
   "stem_cell": {
    "cell_type": "raw",
    "source": [
     "# coding=utf-8\n"
    ],
    "metadata": {
     "collapsed": false
    }
   }
  }
 },
 "nbformat": 4,
 "nbformat_minor": 1
}